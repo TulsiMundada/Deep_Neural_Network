{
 "cells": [
  {
   "cell_type": "code",
   "execution_count": 33,
   "metadata": {},
   "outputs": [],
   "source": [
    "import numpy as np\n",
    "import pandas as pd\n",
    "import matplotlib.pyplot as plt\n",
    "\n",
    "import seaborn as sns\n",
    "\n",
    "from sklearn import datasets\n",
    "from sklearn.metrics import accuracy_score, confusion_matrix, ConfusionMatrixDisplay , classification_report "
   ]
  },
  {
   "cell_type": "code",
   "execution_count": null,
   "metadata": {},
   "outputs": [],
   "source": []
  },
  {
   "cell_type": "code",
   "execution_count": null,
   "metadata": {},
   "outputs": [],
   "source": []
  },
  {
   "cell_type": "code",
   "execution_count": null,
   "metadata": {},
   "outputs": [],
   "source": [
    "for i in range(0,epochs):\n",
    "    ## forward propogation\n",
    "    # Layer1 marked 1\n",
    "\n"
   ]
  },
  {
   "cell_type": "code",
   "execution_count": null,
   "metadata": {},
   "outputs": [],
   "source": [
    "for i in range(0,epochs):\n",
    "    ## forward propogation\n",
    "    \n",
    "    # Layer2 marked 2\n"
   ]
  },
  {
   "cell_type": "code",
   "execution_count": null,
   "metadata": {},
   "outputs": [],
   "source": []
  },
  {
   "cell_type": "code",
   "execution_count": null,
   "metadata": {},
   "outputs": [],
   "source": [
    "def predict(model, X_p):\n",
    "\n",
    "    W1, b1, W2, b2 = model['W1'], model['b1'], model['W2'], model['b2']\n",
    "\n",
    "    ##forward propagation\n",
    "\n",
    "    #Layer1\n",
    "    z1 = X_p.dot(W1) + b1  # Aggregation\n",
    "    a1 = fn_activ(z1)  #activation\n",
    "\n",
    "    #Layer2\n",
    "    z2 = a1.dot(W2) + b2   # Aggregation\n",
    "    a2 = fn_softmax(z2)  # Activation\n",
    "\n",
    "    model = {'W1':W1,'b1':b1,\n",
    "             \"W2\":W2,'b2':b2}\n",
    "    \n",
    "\n",
    "    return np.argmax(a2,axis=1)  #Is it greater or equal to 0.\n",
    "                                  # pick index of class with highest probability\n"
   ]
  },
  {
   "cell_type": "code",
   "execution_count": null,
   "metadata": {},
   "outputs": [],
   "source": []
  }
 ],
 "metadata": {
  "kernelspec": {
   "display_name": "Python 3 (ipykernel)",
   "language": "python",
   "name": "python3"
  },
  "language_info": {
   "codemirror_mode": {
    "name": "ipython",
    "version": 3
   },
   "file_extension": ".py",
   "mimetype": "text/x-python",
   "name": "python",
   "nbconvert_exporter": "python",
   "pygments_lexer": "ipython3",
   "version": "3.11.7"
  }
 },
 "nbformat": 4,
 "nbformat_minor": 2
}

{
 "cells": [
  {
   "cell_type": "code",
   "execution_count": 1,
   "metadata": {},
   "outputs": [],
   "source": [
    "#!/usr/bin/env python\n",
    "# -*- coding: utf-8 -*-"
   ]
  },
  {
   "cell_type": "markdown",
   "metadata": {},
   "source": [
    "# Deep Neural Networks \n",
    "## Session 26a\n",
    "\n",
    "## Simple implementation of Generative Adversarial Networks (GAN).\n",
    "<img src='../../prasami_images/prasami_color_tutorials_small.png' width='400' alt=\"By Pramod Sharma : pramod.sharma@prasami.com\" align=\"left\"/>"
   ]
  },
  {
   "cell_type": "markdown",
   "metadata": {},
   "source": [
    "For ease of understanding, consider 2 x 2 black and white images. Correct image will have darker shades in diagonal and would look like a backslash."
   ]
  },
  {
   "cell_type": "code",
   "execution_count": 2,
   "metadata": {},
   "outputs": [],
   "source": [
    "### Import Libraries\n",
    "\n",
    "import numpy as np\n",
    "\n",
    "import pandas as pd\n",
    "\n",
    "import matplotlib.pyplot as plt\n",
    "\n",
    "%matplotlib inline"
   ]
  },
  {
   "cell_type": "code",
   "execution_count": 3,
   "metadata": {},
   "outputs": [],
   "source": [
    "# some global variables\n",
    "\n",
    "RANDOM_STATE = 24\n",
    "\n",
    "np.random.RandomState(seed=RANDOM_STATE);\n",
    "\n",
    "# input and output directories\n",
    "inpDir = '../input'\n",
    "outDir = '../output'\n",
    "\n",
    "# Set the ploting parameters\n",
    "params = {'legend.fontsize': 'medium',\n",
    "          'figure.figsize': (15, 4),\n",
    "          'axes.labelsize': 'medium',\n",
    "          'axes.titlesize':'large',\n",
    "          'xtick.labelsize':'medium',\n",
    "          'ytick.labelsize':'medium',\n",
    "          #'text.usetex':True,\n",
    "          #'text.latex.unicode':True\n",
    "         }\n",
    "\n",
    "plt.rcParams.update(params)\n",
    "\n",
    "# Hyperparameters\n",
    "ALPHA = 0.01 # learning rate\n",
    "\n",
    "EPOCHS = 1000"
   ]
  },
  {
   "cell_type": "markdown",
   "metadata": {},
   "source": [
    "## Helper Functions"
   ]
  },
  {
   "cell_type": "code",
   "execution_count": 4,
   "metadata": {},
   "outputs": [],
   "source": [
    "# Plot Images\n",
    "'''\n",
    "    Our colors are reversed. Need to correct before displaying in Matplotlib\n",
    "'''\n",
    "\n",
    "def fn_plot_samples(samples, m, n):\n",
    "    \n",
    "    fig, axes = plt.subplots(figsize=(n*2, m*2), # as per the elements\n",
    "                             nrows=m, ncols=n,  # columns and rows\n",
    "                             sharey=True, sharex=True) # same axis for all images\n",
    "    \n",
    "    axes = axes.flatten()\n",
    "\n",
    "    for ax, img in zip(axes, samples):\n",
    "        \n",
    "        ax.xaxis.set_visible(False)\n",
    "        ax.yaxis.set_visible(False)\n",
    "        \n",
    "        im = ax.imshow( 1 - img.reshape((2,2)), cmap='Greys_r')  # show images \n",
    "        \n",
    "    return fig, axes"
   ]
  },
  {
   "cell_type": "markdown",
   "metadata": {},
   "source": [
    "## Sigmoid Activation Function"
   ]
  },
  {
   "cell_type": "code",
   "execution_count": 5,
   "metadata": {},
   "outputs": [],
   "source": [
    "# The sigmoid activation function\n",
    "def fn_sigmoid(z):\n",
    "    '''\n",
    "    Args:\n",
    "        z: scalar or vector\n",
    "    Return:\n",
    "        Sigmoid value; scalar or vector\n",
    "    '''\n",
    "    return 1/(1.0 + np.exp(-z))"
   ]
  },
  {
   "cell_type": "markdown",
   "metadata": {},
   "source": [
    "## Sample Faces"
   ]
  },
  {
   "cell_type": "code",
   "execution_count": 6,
   "metadata": {},
   "outputs": [
    {
     "data": {
      "image/png": "[encoded data removed]",
      "text/plain": [
       "<Figure size 800x200 with 4 Axes>"
      ]
     },
     "metadata": {},
     "output_type": "display_data"
    }
   ],
   "source": [
    "# Examples of faces\n",
    "\n",
    "faces = [np.array ( [ 1.0, 0.0, 0.0, 1.0 ] ),\n",
    "         np.array ( [ 0.9, 0.1, 0.2, 0.8 ] ),\n",
    "         np.array ( [ 0.9, 0.2, 0.1, 0.8 ] ),\n",
    "         np.array ( [ 0.8, 0.1, 0.2, 0.9 ] ),\n",
    "         np.array ( [ 0.8, 0.2, 0.1, 0.9 ] )]\n",
    "    \n",
    "_ = fn_plot_samples(faces, 1, 4)"
   ]
  },
  {
   "cell_type": "markdown",
   "metadata": {},
   "source": [
    "# Sample noise\n",
    "\n",
    "The following are randomly generated images, which don't correspond to any face.\n"
   ]
  },
  {
   "cell_type": "code",
   "execution_count": 7,
   "metadata": {},
   "outputs": [
    {
     "data": {
      "image/png": "[encoded data removed]",
      "text/plain": [
       "<Figure size 2000x400 with 20 Axes>"
      ]
     },
     "metadata": {},
     "output_type": "display_data"
    }
   ],
   "source": [
    "# Sample 20 noisy images\n",
    "\n",
    "noise = [np.random.random((2,2)).round(2) for i in range(20)]\n",
    "\n",
    "_ = fn_plot_samples(noise, 2,10)"
   ]
  },
  {
   "cell_type": "markdown",
   "metadata": {},
   "source": [
    "## The neural network\n",
    "\n",
    "### Loss Function\n",
    "We need to minimize the error by adjusting (W, b). A common choice for loss function with the softmax output is the cross-entropy loss. The loss for our prediction $\\hat{y}$ with respect to the true labels $y$ is given by:\n",
    "\n",
    "$$\n",
    "\\begin{aligned}\n",
    "L(\\hat{y},y) & =  -y.log\\hat{y} - (1-y) . log(1-\\hat{y})\\\\\n",
    "D(x) & = x_1 . w_1 + x_2 . w_2 + x_3 . w_3+ x_4 . w_4 + b \\\\\n",
    "D(x) & = X . W + b\\\\\n",
    "a & = \\hat{y} = \\mathrm{sigmoid}(z)\\\\\n",
    "\\end{aligned}\n",
    "$$"
   ]
  },
  {
   "cell_type": "markdown",
   "metadata": {},
   "source": [
    "### The Discriminator\n",
    "<img src='../../images/s22_dnn_fig2a.jpg' width='500' alt=\"Image of single layer discriminator\" align=\"left\"/>"
   ]
  },
  {
   "cell_type": "markdown",
   "metadata": {},
   "source": [
    "In case of images, y = 1. Hence,\n",
    "\n",
    "$\n",
    "\\begin{aligned}\n",
    "L(\\hat{y},y) & =  -y \\circ log\\hat{y} - (1-y) \\circ log(1-\\hat{y})\\\\\n",
    "L(\\hat{y},1) & =  -1 \\circ log\\hat{y} - (1-1) \\circ log(1-\\hat{y})\\\\\n",
    "L(\\hat{y},1) & =  -log\\hat{y}\\\\\n",
    "\\frac{\\partial{L}}{\\partial{w_i}} & = x_i \\circ\\ ( \\hat{y} - 1) \\\\\n",
    "\\frac{\\partial{L}}{\\partial{b}} & = ( \\hat{y} - 1) \\\\\n",
    "\\end{aligned}\n",
    "$\n",
    "    </p>"
   ]
  },
  {
   "cell_type": "markdown",
   "metadata": {},
   "source": [
    "In case of noise, y = 0. Hence\n",
    "        <br><br>\n",
    "$\n",
    "\\begin{aligned}\n",
    "L(\\hat{y},y) & =  -y.log\\hat{y} - (1-y) . log(1-\\hat{y})\\\\\n",
    "L(\\hat{y},0) & =  -0.log\\hat{y} - (1-0) . log(1-\\hat{y})\\\\\n",
    "L(\\hat{y},1) & =  -log(1-\\hat{y})\\\\\n",
    "\\frac{\\partial{L}}{\\partial{w_i}} & = x_i \\circ\\ \\hat{y} \\\\\n",
    "\\frac{\\partial{L}}{\\partial{b}} & =  \\hat{y} \\\\\n",
    "\\end{aligned}\n",
    "$"
   ]
  },
  {
   "cell_type": "code",
   "execution_count": 8,
   "metadata": {},
   "outputs": [],
   "source": [
    "nn_input_dim = 4\n",
    "\n",
    "# Discriminator class\n",
    "class Discriminator():\n",
    "    '''\n",
    "        We can create labels and then one common loss function or we can calculate errors for\n",
    "        faces and noise separately.\n",
    "        In this implementation errors are calculates separately.\n",
    "    \n",
    "    '''\n",
    "    def __init__(self):\n",
    "        '''\n",
    "            Initialize weights as per the dimensions of the incoming images\n",
    "        '''\n",
    "        self.weights = np.random.rand(nn_input_dim) / np.sqrt(nn_input_dim)\n",
    "        \n",
    "        self.bias = 0.0 # bias can be zero\n",
    "        \n",
    "    \n",
    "    # Forward Pass\n",
    "    def forward(self, x):\n",
    "        '''\n",
    "        Args:\n",
    "            x : pixel value of the images or noise\n",
    "        Returns:\n",
    "            Activations from the discriminator using sigmoid\n",
    "        '''\n",
    "        \n",
    "        return fn_sigmoid(np.dot(x, self.weights) + self.bias)\n",
    "    \n",
    "    \n",
    "    # Forward calculation error\n",
    "    def image_error(self, image):\n",
    "        '''\n",
    "        Args:\n",
    "            image: pixel values of the image\n",
    "        Return\n",
    "            error: \n",
    "        '''\n",
    "        \n",
    "        prediction = self.forward(image)\n",
    "        \n",
    "        # We want the prediction to be 1, so the error is -log(prediction)\n",
    "        return -np.log(prediction)\n",
    "    \n",
    "    \n",
    "    # Derivative for image\n",
    "    def derivatives_from_image(self, image):\n",
    "        '''\n",
    "        Args:\n",
    "            image: pixel values of the image\n",
    "        Return\n",
    "            dW, db: Gradient of weights and bias\n",
    "        '''\n",
    "       \n",
    "        y_pred = self.forward(image)\n",
    "        \n",
    "        dW = image * (y_pred -1) # (a - y) \n",
    "        \n",
    "        db = y_pred-1\n",
    "        \n",
    "        return dW, db\n",
    "    \n",
    "    \n",
    "    # Gradient updates\n",
    "    def update_from_image(self, x):\n",
    "        '''\n",
    "        Args:\n",
    "            x: image or noise data\n",
    "        Return\n",
    "            none\n",
    "        '''\n",
    "    \n",
    "        dW, db = self.derivatives_from_image(x)\n",
    "        \n",
    "        self.weights -= ALPHA * dW\n",
    "        \n",
    "        self.bias -= ALPHA * db\n",
    "        \n",
    "        \n",
    "    #Error from the noise    \n",
    "    def noise_error(self, noise):\n",
    "        '''\n",
    "        Args:\n",
    "            noise: pixel values of the noise\n",
    "        Return\n",
    "            error:error in the noise\n",
    "        '''\n",
    "        \n",
    "        y_pred = self.forward(noise)\n",
    "        \n",
    "        # We want the prediction to be 0, so the error is -log(1-prediction)\n",
    "        return -np.log(1-y_pred)\n",
    "    \n",
    "    \n",
    "    # Derivatives from the noise\n",
    "    def derivatives_from_noise(self, noise):\n",
    "        '''\n",
    "        Args:\n",
    "            noise: pixel values of the noise\n",
    "        Return\n",
    "            dW, db: Gradient of weights and bias\n",
    "        '''\n",
    "        \n",
    "        y_pred = self.forward(noise)\n",
    "        \n",
    "        dW = noise * y_pred\n",
    "        \n",
    "        db = y_pred\n",
    "        \n",
    "        return dW, db\n",
    "    \n",
    "    \n",
    "    # Gradient update\n",
    "    def update_from_noise(self, noise):\n",
    "        '''\n",
    "        Args:\n",
    "            noise: pixel values of the noise\n",
    "        Return\n",
    "            none\n",
    "        '''\n",
    "        \n",
    "        dW, db = self.derivatives_from_noise(noise)\n",
    "        \n",
    "        self.weights -= ALPHA * dW\n",
    "        \n",
    "        self.bias -= ALPHA * db"
   ]
  },
  {
   "cell_type": "markdown",
   "metadata": {},
   "source": [
    "## Generator\n",
    "For sigmoid, we know that:\n",
    "\n",
    "$\\frac{\\partial\\sigma(z)}{\\partial(z)} = \\sigma(z)(1 - \\sigma(z))$\n",
    "\n",
    "\n",
    "<img src='../../images/s22_dnn_fig3a.jpg' width='100%' alt=\"Image of single layer discriminator\"/>"
   ]
  },
  {
   "cell_type": "code",
   "execution_count": 9,
   "metadata": {},
   "outputs": [],
   "source": [
    "# Generator class\n",
    "class Generator():\n",
    "    \n",
    "    def __init__(self):\n",
    "        \n",
    "        '''\n",
    "            Initialize weights as per the dimensions of the incoming images\n",
    "        '''\n",
    "        self.weights = np.random.rand(nn_input_dim) / np.sqrt(nn_input_dim)\n",
    "        self.biases = np.zeros(nn_input_dim) # as earlier bias can be zero\n",
    "\n",
    "    # Forward pass\n",
    "    def forward(self, z):\n",
    "        \n",
    "        '''\n",
    "        Args:\n",
    "            z : a random number to generate a fake face\n",
    "        Returns:\n",
    "            G : sigmoid ( z * W + b ) \n",
    "        '''\n",
    "        \n",
    "        return fn_sigmoid(z * self.weights + self.biases) # activations from generated image\n",
    "\n",
    "    \n",
    "    # Error Calculations\n",
    "    def error(self, z, discriminator):\n",
    "        \n",
    "        '''\n",
    "        Args:\n",
    "            z : a random number to generate a fake face\n",
    "            discriminator : Discriminator object\n",
    "        Returns:\n",
    "            G : sigmoid(Z.W +b)\n",
    "        '''\n",
    "        \n",
    "        # generate X using this generator\n",
    "        x = self.forward(z)\n",
    "        \n",
    "        # Pass through the discriminator to get y\n",
    "        y = discriminator.forward(x)\n",
    "        \n",
    "        # Generator wants discriminator to predict it as image (y = 1)\n",
    "        return -np.log(y)\n",
    "\n",
    "    \n",
    "    # Calculate the derivatives\n",
    "    def derivatives(self, z, discriminator):\n",
    "        \n",
    "        '''\n",
    "        Args:\n",
    "            z : a random number to generate a fake face\n",
    "            discriminator : Discriminator object\n",
    "        Returns:\n",
    "            dW, db : derivatives of weights and biases\n",
    "        '''\n",
    "        \n",
    "        # Get Discriminator weights and biases\n",
    "        discriminator_weights = discriminator.weights\n",
    "        \n",
    "        discriminator_bias = discriminator.bias\n",
    "        \n",
    "        # forward pass of z\n",
    "        x = self.forward(z) # activations from Generator \n",
    "        \n",
    "        y = discriminator.forward(x) # activations from Generator submitted to Discriminator\n",
    "        \n",
    "        factor = - ( 1 - y ) * discriminator_weights * x *( 1 - x ) # -[ 1 - D(G(z))].W.Gi.(1-Gi)\n",
    "        \n",
    "        dW = factor * z # multiply factor by z\n",
    "        \n",
    "        db = factor\n",
    "        \n",
    "        return dW, db\n",
    "\n",
    "    \n",
    "    # Update generator weights\n",
    "    def update(self, z, discriminator):\n",
    "        \n",
    "        '''\n",
    "        Args:\n",
    "            z : a random number to generate a fake face\n",
    "            discriminator : Discriminator object\n",
    "        Returns:\n",
    "            updates the weights and biases\n",
    "        '''\n",
    "        \n",
    "        # error_before = self.error(z, discriminator) # switch on for checking only\n",
    "        \n",
    "        dW, db = self.derivatives(z, discriminator)\n",
    "        \n",
    "        self.weights -= ALPHA * dW\n",
    "        \n",
    "        self.biases -= ALPHA * dW\n",
    "        \n",
    "        # error_after = self.error(z, discriminator) # switch on for checking only"
   ]
  },
  {
   "cell_type": "code",
   "execution_count": 10,
   "metadata": {},
   "outputs": [],
   "source": [
    "# Hyperparameters\n",
    "learning_rate = ALPHA\n",
    "epochs = EPOCHS\n",
    "\n",
    "# Instantiate the GAN\n",
    "D = Discriminator()\n",
    "G = Generator()\n",
    "\n",
    "# Always a good idea to plot the errors\n",
    "errors_discriminator = []\n",
    "errors_generator = []\n",
    "\n",
    "for epoch in range(EPOCHS):\n",
    "    \n",
    "    for face in faces:\n",
    "        \n",
    "        # Update the discriminator weights from the real face\n",
    "        D.update_from_image(face)\n",
    "    \n",
    "        # Pick a random number to generate a fake face\n",
    "        z = np.random.rand()\n",
    "\n",
    "        # Calculate the discriminator error\n",
    "        errors_discriminator.append(sum(D.image_error(face) + D.noise_error(z)))\n",
    "        \n",
    "        # Calculate the generator error\n",
    "        errors_generator.append(G.error(z, D))\n",
    "        \n",
    "        # Build a fake face\n",
    "        noise = G.forward(z)\n",
    "        \n",
    "        # Update the discriminator weights from the fake face\n",
    "        D.update_from_noise(noise)\n",
    "    \n",
    "        # Update the generator weights from the fake face\n",
    "        G.update(z, D)"
   ]
  },
  {
   "cell_type": "code",
   "execution_count": 19,
   "metadata": {},
   "outputs": [
    {
     "data": {
      "image/png": "[encoded data removed]",
      "text/plain": [
       "<Figure size 1500x400 with 2 Axes>"
      ]
     },
     "metadata": {},
     "output_type": "display_data"
    }
   ],
   "source": [
    "from scipy.interpolate import UnivariateSpline\n",
    "\n",
    "# Plot generator errors\n",
    "xnew = np.linspace(0, len(errors_generator)-1, 1000)   \n",
    "\n",
    "spl = UnivariateSpline(range(len(errors_generator)), errors_generator)\n",
    "\n",
    "#spl.set_smoothing_factor(1)\n",
    "\n",
    "fig, axes = plt.subplots(1,2)\n",
    "\n",
    "axes[0].plot(xnew, spl(xnew), '-', c='g', label = 'smoothened')\n",
    "\n",
    "axes[0].plot(errors_generator, alpha = 0.5, c='g', label = 'generator')\n",
    "\n",
    "axes[0].set_title(\"Generator\")\n",
    "\n",
    "axes[0].legend()\n",
    "\n",
    "\n",
    "# Plot discrimenator errors\n",
    "xnew = np.linspace(0, len(errors_discriminator)-1, 1000)  \n",
    "\n",
    "spl = UnivariateSpline(range(len(errors_discriminator)), errors_discriminator)\n",
    "\n",
    "#spl.set_smoothing_factor(500)\n",
    "\n",
    "axes[1].plot(xnew, spl(xnew), '-', c='b', label = 'smoothened')\n",
    "\n",
    "axes[1].plot(errors_discriminator, alpha = 0.5, c='b', label = 'discriminator')\n",
    "\n",
    "axes[1].legend()\n",
    "\n",
    "axes[1].set_title(\"Discriminator\")\n",
    "\n",
    "plt.suptitle('Errors')\n",
    "\n",
    "plt.show()"
   ]
  },
  {
   "cell_type": "markdown",
   "metadata": {},
   "source": [
    "### Note:\n",
    "As expected, error trends are opposite!"
   ]
  },
  {
   "cell_type": "code",
   "execution_count": 20,
   "metadata": {},
   "outputs": [],
   "source": [
    "generated_images = []\n",
    "for i in range(100):\n",
    "    \n",
    "    z = np.random.random() # generate a random number\n",
    "    \n",
    "    generated_image = G.forward(z) # call forward method of Generator class\n",
    "    \n",
    "    generated_images.append(generated_image)\n",
    "    \n",
    "\n",
    "#for i in generated_images:\n",
    "#    print(i.round(2))"
   ]
  },
  {
   "cell_type": "code",
   "execution_count": 21,
   "metadata": {},
   "outputs": [
    {
     "data": {
      "image/png": "[encoded data removed]",
      "text/plain": [
       "<Figure size 2000x2000 with 100 Axes>"
      ]
     },
     "metadata": {},
     "output_type": "display_data"
    }
   ],
   "source": [
    "_ = fn_plot_samples(generated_images, 10, 10)"
   ]
  },
  {
   "cell_type": "code",
   "execution_count": 14,
   "metadata": {},
   "outputs": [
    {
     "name": "stdout",
     "output_type": "stream",
     "text": [
      "Generator weights [ 1.64841007 -1.76270786 -1.67245305  1.74447811]\n",
      "Generator biases [ 1.57882443 -2.02202343 -2.10214436  1.48239779]\n"
     ]
    }
   ],
   "source": [
    "print(\"Generator weights\", G.weights)\n",
    "print(\"Generator biases\", G.biases)"
   ]
  },
  {
   "cell_type": "code",
   "execution_count": 15,
   "metadata": {},
   "outputs": [
    {
     "name": "stdout",
     "output_type": "stream",
     "text": [
      "Discriminator weights [ 0.71202415 -1.14798385 -1.17593341  0.95146735]\n",
      "Discriminator bias -1.302537904047872\n"
     ]
    }
   ],
   "source": [
    "print(\"Discriminator weights\", D.weights)\n",
    "print(\"Discriminator bias\", D.bias)"
   ]
  },
  {
   "cell_type": "code",
   "execution_count": null,
   "metadata": {},
   "outputs": [],
   "source": []
  },
  {
   "cell_type": "code",
   "execution_count": null,
   "metadata": {},
   "outputs": [],
   "source": []
  }
 ],
 "metadata": {
  "kernelspec": {
   "display_name": "Python 3 (ipykernel)",
   "language": "python",
   "name": "python3"
  },
  "language_info": {
   "codemirror_mode": {
    "name": "ipython",
    "version": 3
   },
   "file_extension": ".py",
   "mimetype": "text/x-python",
   "name": "python",
   "nbconvert_exporter": "python",
   "pygments_lexer": "ipython3",
   "version": "3.10.12"
  }
 },
 "nbformat": 4,
 "nbformat_minor": 4
}

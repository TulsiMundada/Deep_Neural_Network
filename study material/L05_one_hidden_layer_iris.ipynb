{
 "cells": [
  {
   "cell_type": "code",
   "execution_count": 1,
   "metadata": {},
   "outputs": [],
   "source": [
    "#!/usr/bin/env python3\n",
    "# -*- coding: utf-8 -*-"
   ]
  },
  {
   "cell_type": "markdown",
   "metadata": {},
   "source": [
    "# Deep Neural Network\n",
    "## Session 4: One Hidden Layer, multi-class\n",
    "\n",
    "- Moons Dataset\n",
    "- Decision Boundary\n",
    "- Loss curve\n",
    "\n",
    "<img src='../../prasami_images/prasami_color_tutorials_small.png' width='400' alt=\"By Pramod Sharma : pramod.sharma@prasami.com\" align = \"left\"/>"
   ]
  },
  {
   "cell_type": "markdown",
   "metadata": {},
   "source": [
    "## Import Statements"
   ]
  },
  {
   "cell_type": "code",
   "execution_count": 2,
   "metadata": {},
   "outputs": [],
   "source": [
    "###-----------------\n",
    "### Import Libraries\n",
    "###-----------------\n",
    "\n",
    "import numpy as np\n",
    "import pandas as pd\n",
    "import matplotlib.pyplot as plt\n",
    "\n",
    "import seaborn as sns\n",
    "\n",
    "from sklearn import datasets\n",
    "from sklearn.preprocessing import StandardScaler, LabelBinarizer\n",
    "from sklearn.model_selection import train_test_split\n",
    "from sklearn.metrics import (accuracy_score, \n",
    "                             confusion_matrix,\n",
    "                             classification_report,\n",
    "                             ConfusionMatrixDisplay)"
   ]
  },
  {
   "cell_type": "markdown",
   "metadata": {},
   "source": [
    "## Setup Global Parameters"
   ]
  },
  {
   "cell_type": "code",
   "execution_count": 3,
   "metadata": {},
   "outputs": [],
   "source": [
    "###----------------\n",
    "### Some parameters\n",
    "###----------------\n",
    "\n",
    "RANDOM_STATE = 24 # REMEMBER: to remove at the time of promotion to production\n",
    "np.random.seed(RANDOM_STATE)\n",
    "rng = np.random.default_rng(seed = RANDOM_STATE) # Set Random Seed for reproducible  results\n",
    "\n",
    "NOISE = 0.2\n",
    "EPOCHS = 10000  # number of epochs\n",
    "ALPHA = 0.1  # learning rate\n",
    "N_SAMPLES = 1000\n",
    "TEST_SIZE  = 0.2\n",
    "\n",
    "# parameters for Matplotlib\n",
    "params = {'legend.fontsize': 'medium',\n",
    "          'figure.figsize': (15, 8),\n",
    "          'axes.labelsize': 'large',\n",
    "          'axes.titlesize':'large',\n",
    "          'xtick.labelsize':'large',\n",
    "          'ytick.labelsize':'large'\n",
    "         }\n",
    "\n",
    "plt.rcParams.update(params)\n",
    "\n",
    "CMAP = plt.cm.coolwarm\n",
    "plt.style.use('seaborn-v0_8-darkgrid') # plt.style.use('ggplot')"
   ]
  },
  {
   "cell_type": "markdown",
   "metadata": {},
   "source": [
    "## Generate Data Set\n",
    "<div style=\"font-family: Arial; font-size:1.2em;\">\n",
    "Sklearn's dataset generator is good source of data for learning. To keep the example simple, I'll suggest  <a href=\"http://scikit-learn.org/stable/modules/generated/sklearn.datasets.make_moons.html\">make_moon</a> dataset generator.\n",
    "</div>"
   ]
  },
  {
   "cell_type": "code",
   "execution_count": 4,
   "metadata": {},
   "outputs": [
    {
     "data": {
      "text/plain": [
       "dict_keys(['data', 'target', 'frame', 'target_names', 'DESCR', 'feature_names', 'filename', 'data_module'])"
      ]
     },
     "execution_count": 4,
     "metadata": {},
     "output_type": "execute_result"
    }
   ],
   "source": [
    "iris = datasets.load_iris()\n",
    "iris.keys()"
   ]
  },
  {
   "cell_type": "code",
   "execution_count": 5,
   "metadata": {},
   "outputs": [
    {
     "name": "stdout",
     "output_type": "stream",
     "text": [
      ".. _iris_dataset:\n",
      "\n",
      "Iris plants dataset\n",
      "--------------------\n",
      "\n",
      "**Data Set Characteristics:**\n",
      "\n",
      ":Number of Instances: 150 (50 in each of three classes)\n",
      ":Number of Attributes: 4 numeric, predictive attributes and the class\n",
      ":Attribute Information:\n",
      "    - sepal length in cm\n",
      "    - sepal width in cm\n",
      "    - petal length in cm\n",
      "    - petal width in cm\n",
      "    - class:\n",
      "            - Iris-Setosa\n",
      "            - Iris-Versicolour\n",
      "            - Iris-Virginica\n",
      "\n",
      ":Summary Statistics:\n",
      "\n",
      "============== ==== ==== ======= ===== ====================\n",
      "                Min  Max   Mean    SD   Class Correlation\n",
      "============== ==== ==== ======= ===== ====================\n",
      "sepal length:   4.3  7.9   5.84   0.83    0.7826\n",
      "sepal width:    2.0  4.4   3.05   0.43   -0.4194\n",
      "petal length:   1.0  6.9   3.76   1.76    0.9490  (high!)\n",
      "petal width:    0.1  2.5   1.20   0.76    0.9565  (high!)\n",
      "============== ==== ==== ======= ===== ====================\n",
      "\n",
      ":Missing Attribute Values: None\n",
      ":Class Distribution: 33.3% for each of 3 classes.\n",
      ":Creator: R.A. Fisher\n",
      ":Donor: Michael Marshall (MARSHALL%PLU@io.arc.nasa.gov)\n",
      ":Date: July, 1988\n",
      "\n",
      "The famous Iris database, first used by Sir R.A. Fisher. The dataset is taken\n",
      "from Fisher's paper. Note that it's the same as in R, but not as in the UCI\n",
      "Machine Learning Repository, which has two wrong data points.\n",
      "\n",
      "This is perhaps the best known database to be found in the\n",
      "pattern recognition literature.  Fisher's paper is a classic in the field and\n",
      "is referenced frequently to this day.  (See Duda & Hart, for example.)  The\n",
      "data set contains 3 classes of 50 instances each, where each class refers to a\n",
      "type of iris plant.  One class is linearly separable from the other 2; the\n",
      "latter are NOT linearly separable from each other.\n",
      "\n",
      "|details-start|\n",
      "**References**\n",
      "|details-split|\n",
      "\n",
      "- Fisher, R.A. \"The use of multiple measurements in taxonomic problems\"\n",
      "  Annual Eugenics, 7, Part II, 179-188 (1936); also in \"Contributions to\n",
      "  Mathematical Statistics\" (John Wiley, NY, 1950).\n",
      "- Duda, R.O., & Hart, P.E. (1973) Pattern Classification and Scene Analysis.\n",
      "  (Q327.D83) John Wiley & Sons.  ISBN 0-471-22361-1.  See page 218.\n",
      "- Dasarathy, B.V. (1980) \"Nosing Around the Neighborhood: A New System\n",
      "  Structure and Classification Rule for Recognition in Partially Exposed\n",
      "  Environments\".  IEEE Transactions on Pattern Analysis and Machine\n",
      "  Intelligence, Vol. PAMI-2, No. 1, 67-71.\n",
      "- Gates, G.W. (1972) \"The Reduced Nearest Neighbor Rule\".  IEEE Transactions\n",
      "  on Information Theory, May 1972, 431-433.\n",
      "- See also: 1988 MLC Proceedings, 54-64.  Cheeseman et al\"s AUTOCLASS II\n",
      "  conceptual clustering system finds 3 classes in the data.\n",
      "- Many, many more ...\n",
      "\n",
      "|details-end|\n",
      "\n"
     ]
    }
   ],
   "source": [
    "print(iris.DESCR)"
   ]
  },
  {
   "cell_type": "code",
   "execution_count": 6,
   "metadata": {},
   "outputs": [
    {
     "data": {
      "text/plain": [
       "((150, 4), (150,))"
      ]
     },
     "execution_count": 6,
     "metadata": {},
     "output_type": "execute_result"
    }
   ],
   "source": [
    "iris.data.shape, iris.target.shape"
   ]
  },
  {
   "cell_type": "code",
   "execution_count": 7,
   "metadata": {},
   "outputs": [
    {
     "data": {
      "text/plain": [
       "array([0, 0, 0, 0, 0, 0, 0, 0, 0, 0, 0, 0, 0, 0, 0, 0, 0, 0, 0, 0, 0, 0,\n",
       "       0, 0, 0, 0, 0, 0, 0, 0, 0, 0, 0, 0, 0, 0, 0, 0, 0, 0, 0, 0, 0, 0,\n",
       "       0, 0, 0, 0, 0, 0, 1, 1, 1, 1, 1, 1, 1, 1, 1, 1, 1, 1, 1, 1, 1, 1,\n",
       "       1, 1, 1, 1, 1, 1, 1, 1, 1, 1, 1, 1, 1, 1, 1, 1, 1, 1, 1, 1, 1, 1,\n",
       "       1, 1, 1, 1, 1, 1, 1, 1, 1, 1, 1, 1, 2, 2, 2, 2, 2, 2, 2, 2, 2, 2,\n",
       "       2, 2, 2, 2, 2, 2, 2, 2, 2, 2, 2, 2, 2, 2, 2, 2, 2, 2, 2, 2, 2, 2,\n",
       "       2, 2, 2, 2, 2, 2, 2, 2, 2, 2, 2, 2, 2, 2, 2, 2, 2, 2])"
      ]
     },
     "execution_count": 7,
     "metadata": {},
     "output_type": "execute_result"
    }
   ],
   "source": [
    "iris.target"
   ]
  },
  {
   "cell_type": "code",
   "execution_count": 8,
   "metadata": {},
   "outputs": [
    {
     "data": {
      "text/plain": [
       "array(['setosa', 'versicolor', 'virginica'], dtype='<U10')"
      ]
     },
     "execution_count": 8,
     "metadata": {},
     "output_type": "execute_result"
    }
   ],
   "source": [
    "iris.target_names"
   ]
  },
  {
   "cell_type": "code",
   "execution_count": 9,
   "metadata": {},
   "outputs": [
    {
     "data": {
      "text/plain": [
       "['sepal length (cm)',\n",
       " 'sepal width (cm)',\n",
       " 'petal length (cm)',\n",
       " 'petal width (cm)']"
      ]
     },
     "execution_count": 9,
     "metadata": {},
     "output_type": "execute_result"
    }
   ],
   "source": [
    "iris.feature_names"
   ]
  },
  {
   "cell_type": "code",
   "execution_count": 10,
   "metadata": {},
   "outputs": [],
   "source": [
    "X, y = iris.data, iris.target"
   ]
  },
  {
   "cell_type": "code",
   "execution_count": 11,
   "metadata": {},
   "outputs": [],
   "source": [
    "# y = pd.get_dummies(y).to_numpy() # Converting to one-hot-encoding\n",
    "# y"
   ]
  },
  {
   "cell_type": "code",
   "execution_count": 12,
   "metadata": {},
   "outputs": [],
   "source": [
    "X_train, X_test, y_train, y_test = train_test_split(X, y,\n",
    "                                                    stratify=y,\n",
    "                                                    test_size=TEST_SIZE,\n",
    "                                                    random_state=RANDOM_STATE)"
   ]
  },
  {
   "cell_type": "code",
   "execution_count": 13,
   "metadata": {},
   "outputs": [
    {
     "data": {
      "text/plain": [
       "((120, 4), (30, 4), (120,), (30,))"
      ]
     },
     "execution_count": 13,
     "metadata": {},
     "output_type": "execute_result"
    }
   ],
   "source": [
    "X_train.shape, X_test.shape, y_train.shape, y_test.shape"
   ]
  },
  {
   "cell_type": "code",
   "execution_count": 14,
   "metadata": {},
   "outputs": [
    {
     "name": "stdout",
     "output_type": "stream",
     "text": [
      "\u001b[0;31mInit signature:\u001b[0m \u001b[0mLabelBinarizer\u001b[0m\u001b[0;34m(\u001b[0m\u001b[0;34m*\u001b[0m\u001b[0;34m,\u001b[0m \u001b[0mneg_label\u001b[0m\u001b[0;34m=\u001b[0m\u001b[0;36m0\u001b[0m\u001b[0;34m,\u001b[0m \u001b[0mpos_label\u001b[0m\u001b[0;34m=\u001b[0m\u001b[0;36m1\u001b[0m\u001b[0;34m,\u001b[0m \u001b[0msparse_output\u001b[0m\u001b[0;34m=\u001b[0m\u001b[0;32mFalse\u001b[0m\u001b[0;34m)\u001b[0m\u001b[0;34m\u001b[0m\u001b[0;34m\u001b[0m\u001b[0m\n",
      "\u001b[0;31mDocstring:\u001b[0m     \n",
      "Binarize labels in a one-vs-all fashion.\n",
      "\n",
      "Several regression and binary classification algorithms are\n",
      "available in scikit-learn. A simple way to extend these algorithms\n",
      "to the multi-class classification case is to use the so-called\n",
      "one-vs-all scheme.\n",
      "\n",
      "At learning time, this simply consists in learning one regressor\n",
      "or binary classifier per class. In doing so, one needs to convert\n",
      "multi-class labels to binary labels (belong or does not belong\n",
      "to the class). `LabelBinarizer` makes this process easy with the\n",
      "transform method.\n",
      "\n",
      "At prediction time, one assigns the class for which the corresponding\n",
      "model gave the greatest confidence. `LabelBinarizer` makes this easy\n",
      "with the :meth:`inverse_transform` method.\n",
      "\n",
      "Read more in the :ref:`User Guide <preprocessing_targets>`.\n",
      "\n",
      "Parameters\n",
      "----------\n",
      "neg_label : int, default=0\n",
      "    Value with which negative labels must be encoded.\n",
      "\n",
      "pos_label : int, default=1\n",
      "    Value with which positive labels must be encoded.\n",
      "\n",
      "sparse_output : bool, default=False\n",
      "    True if the returned array from transform is desired to be in sparse\n",
      "    CSR format.\n",
      "\n",
      "Attributes\n",
      "----------\n",
      "classes_ : ndarray of shape (n_classes,)\n",
      "    Holds the label for each class.\n",
      "\n",
      "y_type_ : str\n",
      "    Represents the type of the target data as evaluated by\n",
      "    :func:`~sklearn.utils.multiclass.type_of_target`. Possible type are\n",
      "    'continuous', 'continuous-multioutput', 'binary', 'multiclass',\n",
      "    'multiclass-multioutput', 'multilabel-indicator', and 'unknown'.\n",
      "\n",
      "sparse_input_ : bool\n",
      "    `True` if the input data to transform is given as a sparse matrix,\n",
      "     `False` otherwise.\n",
      "\n",
      "See Also\n",
      "--------\n",
      "label_binarize : Function to perform the transform operation of\n",
      "    LabelBinarizer with fixed classes.\n",
      "OneHotEncoder : Encode categorical features using a one-hot aka one-of-K\n",
      "    scheme.\n",
      "\n",
      "Examples\n",
      "--------\n",
      ">>> from sklearn.preprocessing import LabelBinarizer\n",
      ">>> lb = LabelBinarizer()\n",
      ">>> lb.fit([1, 2, 6, 4, 2])\n",
      "LabelBinarizer()\n",
      ">>> lb.classes_\n",
      "array([1, 2, 4, 6])\n",
      ">>> lb.transform([1, 6])\n",
      "array([[1, 0, 0, 0],\n",
      "       [0, 0, 0, 1]])\n",
      "\n",
      "Binary targets transform to a column vector\n",
      "\n",
      ">>> lb = LabelBinarizer()\n",
      ">>> lb.fit_transform(['yes', 'no', 'no', 'yes'])\n",
      "array([[1],\n",
      "       [0],\n",
      "       [0],\n",
      "       [1]])\n",
      "\n",
      "Passing a 2D matrix for multilabel classification\n",
      "\n",
      ">>> import numpy as np\n",
      ">>> lb.fit(np.array([[0, 1, 1], [1, 0, 0]]))\n",
      "LabelBinarizer()\n",
      ">>> lb.classes_\n",
      "array([0, 1, 2])\n",
      ">>> lb.transform([0, 1, 2, 1])\n",
      "array([[1, 0, 0],\n",
      "       [0, 1, 0],\n",
      "       [0, 0, 1],\n",
      "       [0, 1, 0]])\n",
      "\u001b[0;31mFile:\u001b[0m           ~/May2024/lib/python3.10/site-packages/sklearn/preprocessing/_label.py\n",
      "\u001b[0;31mType:\u001b[0m           type\n",
      "\u001b[0;31mSubclasses:\u001b[0m     "
     ]
    }
   ],
   "source": [
    "LabelBinarizer?"
   ]
  },
  {
   "cell_type": "code",
   "execution_count": 15,
   "metadata": {},
   "outputs": [],
   "source": [
    "sc = StandardScaler()\n",
    "X_train = sc.fit_transform(X_train)\n",
    "X_test = sc.transform(X_test)"
   ]
  },
  {
   "cell_type": "code",
   "execution_count": 16,
   "metadata": {},
   "outputs": [],
   "source": [
    "lb = LabelBinarizer()\n",
    "y_train = lb.fit_transform(y_train)\n",
    "y_test = lb.transform(y_test)"
   ]
  },
  {
   "cell_type": "code",
   "execution_count": 17,
   "metadata": {},
   "outputs": [
    {
     "data": {
      "text/plain": [
       "(30, 3)"
      ]
     },
     "execution_count": 17,
     "metadata": {},
     "output_type": "execute_result"
    }
   ],
   "source": [
    "y_test.shape"
   ]
  },
  {
   "cell_type": "code",
   "execution_count": 18,
   "metadata": {},
   "outputs": [],
   "source": [
    "# softmax function\n",
    "def fn_softmax(z):\n",
    "    '''\n",
    "    Args:\n",
    "        z : a matrix of z values of shape (m, n_output)\n",
    "    returns:\n",
    "        softmax values of z\n",
    "    \n",
    "    '''\n",
    "    exp_z = np.exp(z)\n",
    "\n",
    "    return exp_z / np.sum(exp_z, axis =1, keepdims=True ) "
   ]
  },
  {
   "cell_type": "code",
   "execution_count": 19,
   "metadata": {},
   "outputs": [
    {
     "data": {
      "text/plain": [
       "(2,)"
      ]
     },
     "execution_count": 19,
     "metadata": {},
     "output_type": "execute_result"
    }
   ],
   "source": [
    "sm = fn_softmax(np.asarray([[8, 5, 0], [-10, 0, 10]]))\n",
    "#sm.sum(axis=1, keepdims=True).shape\n",
    "sm.sum(axis=1).shape"
   ]
  },
  {
   "cell_type": "code",
   "execution_count": 20,
   "metadata": {},
   "outputs": [],
   "source": [
    "def fn_activ(z):\n",
    "    return np.tanh(z)\n",
    "\n",
    "\n",
    "def fn_activ_prime(a):\n",
    "    return 1. - np.tanh(a)**2\n",
    "    "
   ]
  },
  {
   "cell_type": "code",
   "execution_count": 21,
   "metadata": {},
   "outputs": [],
   "source": [
    "def predict (model, X_p):\n",
    "\n",
    "    W1, b1, W2, b2 = model['W1'], model['b1'], model['W2'], model['b2']\n",
    "\n",
    "    # Layer1\n",
    "    z1 = X_p.dot(W1) + b1 # Aggregation\n",
    "    a1 = fn_activ(z1) # Activation\n",
    "\n",
    "    # Layer 2\n",
    "    z2 = a1.dot(W2) +b2 # Aggregation\n",
    "    a2 = fn_softmax(z2) # Activation\n",
    "    \n",
    "    return np.argmax(a2, axis=1) # pick index of class with highest\n",
    "                                 # probability"
   ]
  },
  {
   "cell_type": "code",
   "execution_count": 22,
   "metadata": {},
   "outputs": [],
   "source": [
    "def calculate_loss (model, X_l, y_l):\n",
    "\n",
    "    W1, b1, W2, b2 = model['W1'], model['b1'], model['W2'], model['b2']\n",
    "\n",
    "    m = X_l.shape[0]\n",
    "    \n",
    "    # Layer1\n",
    "    z1 = X_l.dot(W1) + b1 # Aggregation\n",
    "    a1 = fn_activ(z1) # Activation\n",
    "\n",
    "    # Layer 2\n",
    "    z2 = a1.dot(W2) +b2 # Aggregation\n",
    "    a2 = fn_softmax(z2) # Activation\n",
    "\n",
    "    data_loss = -(y_l*np.log( a2 ) + \n",
    "                  ( 1 - y_l )* np.log( 1 - a2 ) ).sum() # Binary\n",
    "    \n",
    "    return data_loss / m"
   ]
  },
  {
   "cell_type": "code",
   "execution_count": 23,
   "metadata": {},
   "outputs": [],
   "source": [
    "def build_model(X_tr, y_tr, \n",
    "                nn_hdim, nn_out, \n",
    "                alpha=ALPHA, epochs = EPOCHS):\n",
    "    '''\n",
    "    Args:\n",
    "        X_tr : Training features\n",
    "        y_tr : Training labels\n",
    "        nn_hdim : number of nodes in the hidden layer\n",
    "        nn_out : size of output\n",
    "    '''\n",
    "    m, nn_input_dim = X_tr.shape\n",
    "    nn_output_dim = nn_out\n",
    "\n",
    "    # size = 2,4\n",
    "    W1 = np.random.rand(nn_input_dim, nn_hdim) / np.sqrt(nn_input_dim)\n",
    "    # size = 4, 2\n",
    "    W2 = np.random.rand(nn_hdim, nn_output_dim) / np.sqrt(nn_hdim)\n",
    "    #size  =4\n",
    "    b1 = np.zeros((1, nn_hdim), dtype = np.float32)\n",
    "    # size = 2\n",
    "    b2 = np.zeros((1, nn_output_dim), dtype = np.float32)\n",
    "\n",
    "    curr_loss = 0\n",
    "\n",
    "    loss, epoch = [], []\n",
    "\n",
    "    for i in range (0, epochs):\n",
    "\n",
    "        ### Forward Propagation\n",
    "\n",
    "        # Layer1 Mark 3\n",
    "        z1 = X_tr.dot(W1) + b1 # Aggregation z = X.W +b\n",
    "        a1 = fn_activ(z1)      # Activation a = g(z)\n",
    "\n",
    "        # Layer 2 marked 1\n",
    "        z2 = a1.dot(W2) +b2  # Aggregation z = X.W +b\n",
    "        a2 = fn_softmax(z2)  # Activation a = g(z)\n",
    "\n",
    "        ### Back propagation\n",
    "\n",
    "        # Layer 2\n",
    "        assert (a2.shape == y_tr.shape), f'check y {a2.shape}/{y_tr.shape}'\n",
    "        dz2 = a2 - y_tr ## REMEMBER dim of a2 and y to be same dz = a-y\n",
    "\n",
    "        dW2 = (a1.T).dot(dz2) # dw = a.dz\n",
    "        assert (W2.shape == dW2.shape), f'check W2 {W2.shape}/{dW2.shape}'\n",
    "\n",
    "        db2 = np.sum(dz2, axis = 0, keepdims=True) # db = dz ( sum along the column)\n",
    "        assert (b2.shape == db2.shape), f'check b2 {b2.shape}/{db2.shape}'\n",
    "\n",
    "        da1 = dz2.dot(W2.T) # da = W.dz\n",
    "        assert (a1.shape == da1.shape), f'check b2 {a1.shape}/{da1.shape}'\n",
    "\n",
    "        # Layer 1 Marked 4\n",
    "        dz1 = da1 * fn_activ_prime(z1)\n",
    "        assert (z1.shape == dz1.shape), f'check b2 {z1.shape}/{dz1.shape}'\n",
    "\n",
    "        dW1 = (X_tr.T).dot(dz1) # dw = a.dz\n",
    "        assert (W1.shape == dW1.shape), f'check W2 {W1.shape}/{dW1.shape}'\n",
    "\n",
    "        db1 = np.sum(dz1, axis = 0, keepdims=True) # db = dz ( sum along the column)\n",
    "        assert (b1.shape == db1.shape), f'check b2 {b1.shape}/{db1.shape}'\n",
    "\n",
    "        ### Gradient Update\n",
    "        W1 += -alpha * dW1 / m\n",
    "        b1 += -alpha * db1 / m\n",
    "        W2 += -alpha * dW2 / m\n",
    "        b2 += -alpha * db2 / m\n",
    "\n",
    "        model = {'W1' : W1, 'b1' : b1,\n",
    "                 'W2' : W2, 'b2' : b2\n",
    "                 }\n",
    "        \n",
    "        curr_loss = calculate_loss(model, X_tr, y_tr)\n",
    "        loss.append(curr_loss)\n",
    "        epoch.append(i)\n",
    "\n",
    "        if i%1000 == 0:\n",
    "            print (f'After epoch:{i:3d}; loss : {curr_loss: .5f}')\n",
    "\n",
    "    loss_hist['epoch'] = epoch\n",
    "    loss_hist['loss'] = loss\n",
    "    \n",
    "    return model"
   ]
  },
  {
   "cell_type": "code",
   "execution_count": 24,
   "metadata": {},
   "outputs": [],
   "source": [
    "loss_hist = {}"
   ]
  },
  {
   "cell_type": "code",
   "execution_count": 25,
   "metadata": {},
   "outputs": [
    {
     "name": "stdout",
     "output_type": "stream",
     "text": [
      "After epoch:  0; loss :  1.95957\n",
      "After epoch:1000; loss :  0.11608\n",
      "After epoch:2000; loss :  0.09508\n",
      "After epoch:3000; loss :  0.09023\n",
      "After epoch:4000; loss :  0.08843\n",
      "After epoch:5000; loss :  0.08760\n",
      "After epoch:6000; loss :  0.08714\n",
      "After epoch:7000; loss :  0.08686\n",
      "After epoch:8000; loss :  0.08668\n",
      "After epoch:9000; loss :  0.08654\n"
     ]
    }
   ],
   "source": [
    "nn_out_dim = 3\n",
    "\n",
    "model = build_model(X_train, y_train, 4, nn_out_dim)"
   ]
  },
  {
   "cell_type": "code",
   "execution_count": 26,
   "metadata": {},
   "outputs": [
    {
     "data": {
      "text/plain": [
       "(1, 3)"
      ]
     },
     "execution_count": 26,
     "metadata": {},
     "output_type": "execute_result"
    }
   ],
   "source": [
    "model['b2'].shape"
   ]
  },
  {
   "cell_type": "code",
   "execution_count": 27,
   "metadata": {},
   "outputs": [
    {
     "data": {
      "text/plain": [
       "<Axes: xlabel='epoch'>"
      ]
     },
     "execution_count": 27,
     "metadata": {},
     "output_type": "execute_result"
    },
    {
     "data": {
      "image/png": "[encoded data removed]",
      "text/plain": [
       "<Figure size 1500x800 with 1 Axes>"
      ]
     },
     "metadata": {},
     "output_type": "display_data"
    }
   ],
   "source": [
    "pd.DataFrame(loss_hist).plot(x = 'epoch')"
   ]
  },
  {
   "cell_type": "code",
   "execution_count": null,
   "metadata": {},
   "outputs": [],
   "source": []
  },
  {
   "cell_type": "code",
   "execution_count": 28,
   "metadata": {},
   "outputs": [],
   "source": [
    "# X = X_train\n",
    "# fig, ax = plt.subplots() # instantiation of plt objects\n",
    "# dm = 0.005 # spacing of the grid\n",
    "# x_min, x_max = X[:, 0].min() - 0.05 ,X[:, 0].max() + 0.05\n",
    "# y_min, y_max = X[:, 1].min() - 0.05 ,X[:, 1].max() + 0.05\n",
    "# xx,yy = np.meshgrid(np.arange(x_min, x_max, dm), \n",
    "#                     np.arange(y_min, y_max, dm)) # generate a mesh\n",
    "# XX = np.c_[xx.ravel(), yy.ravel()] # prepare feature data\n",
    "\n",
    "# y_pred = predict(model, XX)\n",
    "\n",
    "# Z = np.array(y_pred).reshape(xx.shape)\n",
    "\n",
    "# ax.contourf(xx,yy, Z, cmap=CMAP, alpha = 0.8)\n",
    "\n",
    "# ax.scatter(X[:, 0], X[:, 1], c = y_train.argmax(axis = 1), \n",
    "#            edgecolors='k', \n",
    "#            cmap = plt.cm.bwr)"
   ]
  },
  {
   "cell_type": "markdown",
   "metadata": {},
   "source": [
    "## Train data"
   ]
  },
  {
   "cell_type": "code",
   "execution_count": 29,
   "metadata": {},
   "outputs": [
    {
     "data": {
      "text/plain": [
       "0.9833333333333333"
      ]
     },
     "execution_count": 29,
     "metadata": {},
     "output_type": "execute_result"
    }
   ],
   "source": [
    "y_pred = predict(model, X_train)\n",
    "accuracy_score(y_train.argmax(axis = 1), y_pred)"
   ]
  },
  {
   "cell_type": "code",
   "execution_count": null,
   "metadata": {},
   "outputs": [],
   "source": []
  },
  {
   "cell_type": "code",
   "execution_count": 30,
   "metadata": {},
   "outputs": [
    {
     "data": {
      "text/plain": [
       "1.0"
      ]
     },
     "execution_count": 30,
     "metadata": {},
     "output_type": "execute_result"
    }
   ],
   "source": [
    "y_pred = predict(model, X_test)\n",
    "accuracy_score(y_test.argmax(axis = 1), y_pred)"
   ]
  },
  {
   "cell_type": "code",
   "execution_count": 31,
   "metadata": {},
   "outputs": [
    {
     "data": {
      "text/plain": [
       "array([[10,  0,  0],\n",
       "       [ 0, 10,  0],\n",
       "       [ 0,  0, 10]])"
      ]
     },
     "execution_count": 31,
     "metadata": {},
     "output_type": "execute_result"
    }
   ],
   "source": [
    "cm = confusion_matrix(y_test.argmax(axis = 1), y_pred)\n",
    "cm"
   ]
  },
  {
   "cell_type": "code",
   "execution_count": 32,
   "metadata": {},
   "outputs": [
    {
     "data": {
      "image/png": "[encoded data removed]",
      "text/plain": [
       "<Figure size 400x400 with 1 Axes>"
      ]
     },
     "metadata": {},
     "output_type": "display_data"
    }
   ],
   "source": [
    "disp = ConfusionMatrixDisplay(confusion_matrix=cm,\n",
    "                              display_labels=iris.target_names)\n",
    "\n",
    "fig, ax = plt.subplots(figsize=(4,4))\n",
    "\n",
    "disp.plot(ax = ax, cmap='Blues', colorbar=False);\n",
    "ax.grid(False);"
   ]
  },
  {
   "cell_type": "code",
   "execution_count": null,
   "metadata": {},
   "outputs": [],
   "source": []
  }
 ],
 "metadata": {
  "kernelspec": {
   "display_name": "Python 3 (ipykernel)",
   "language": "python",
   "name": "python3"
  },
  "language_info": {
   "codemirror_mode": {
    "name": "ipython",
    "version": 3
   },
   "file_extension": ".py",
   "mimetype": "text/x-python",
   "name": "python",
   "nbconvert_exporter": "python",
   "pygments_lexer": "ipython3",
   "version": "3.10.12"
  }
 },
 "nbformat": 4,
 "nbformat_minor": 4
}

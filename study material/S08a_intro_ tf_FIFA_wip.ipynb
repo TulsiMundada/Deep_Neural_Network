{
 "cells": [
  {
   "cell_type": "code",
   "execution_count": 1,
   "metadata": {},
   "outputs": [],
   "source": [
    "#!/usr/bin/env python\n",
    "# -*- coding: utf-8 -*-"
   ]
  },
  {
   "cell_type": "markdown",
   "metadata": {},
   "source": [
    "# Deep Neural Networks \n",
    "## Session 08a\n",
    "\n",
    "## Working with Tensorflow \n",
    "- One hidden layer\n",
    "- ${Swish}$ activation function\n",
    "- Adam\n",
    "- Multi-class output\n",
    "- FIFA dataset\n",
    "\n",
    "<img src='../../prasami_images/prasami_color_tutorials_small.png' width='400' alt=\"By Pramod Sharma : pramod.sharma@prasami.com\" align=\"left\"/>"
   ]
  },
  {
   "cell_type": "code",
   "execution_count": 2,
   "metadata": {},
   "outputs": [
    {
     "name": "stderr",
     "output_type": "stream",
     "text": [
      "2024-05-19 18:52:12.470158: E external/local_xla/xla/stream_executor/cuda/cuda_dnn.cc:9261] Unable to register cuDNN factory: Attempting to register factory for plugin cuDNN when one has already been registered\n",
      "2024-05-19 18:52:12.470209: E external/local_xla/xla/stream_executor/cuda/cuda_fft.cc:607] Unable to register cuFFT factory: Attempting to register factory for plugin cuFFT when one has already been registered\n",
      "2024-05-19 18:52:12.471266: E external/local_xla/xla/stream_executor/cuda/cuda_blas.cc:1515] Unable to register cuBLAS factory: Attempting to register factory for plugin cuBLAS when one has already been registered\n",
      "2024-05-19 18:52:12.477601: I tensorflow/core/platform/cpu_feature_guard.cc:182] This TensorFlow binary is optimized to use available CPU instructions in performance-critical operations.\n",
      "To enable the following instructions: AVX2 FMA, in other operations, rebuild TensorFlow with the appropriate compiler flags.\n",
      "2024-05-19 18:52:13.308316: W tensorflow/compiler/tf2tensorrt/utils/py_utils.cc:38] TF-TRT Warning: Could not find TensorRT\n"
     ]
    }
   ],
   "source": [
    "###-----------------\n",
    "### Import Libraries\n",
    "###-----------------\n",
    "\n",
    "import os\n",
    "import sys\n",
    "import numpy as np\n",
    "import pandas as pd\n",
    "\n",
    "import matplotlib.pyplot as plt\n",
    "from time import time\n",
    "from sklearn.model_selection import train_test_split\n",
    "from sklearn.metrics import accuracy_score, confusion_matrix, classification_report, ConfusionMatrixDisplay\n",
    "from sklearn.preprocessing import StandardScaler\n",
    "\n",
    "import tensorflow as tf\n",
    "\n",
    "from utils.helper import fn_plot_tf_hist, fn_plot_confusion_matrix"
   ]
  },
  {
   "cell_type": "code",
   "execution_count": 3,
   "metadata": {},
   "outputs": [],
   "source": [
    "###----------------------\n",
    "### Some basic parameters\n",
    "###----------------------\n",
    "\n",
    "inpDir = '../../input' # location where input data is stored\n",
    "outDir = '../output' # location to store outputs\n",
    "modelDir = '../models' # location of the images\n",
    "subDir = 'fifa_2019'\n",
    "\n",
    "RANDOM_STATE = 24 # for initialization ----- REMEMBER: to remove at the time of promotion to production\n",
    "np.random.seed(RANDOM_STATE) # Set Random Seed for reproducible  results\n",
    "tf.random.set_seed(RANDOM_STATE) # setting for Tensorflow as well\n",
    "\n",
    "\n",
    "EPOCHS = 100 # number of epochs\n",
    "ALPHA = 0.1 # learning rate\n",
    "\n",
    "BATCH_SIZE = 256\n",
    "\n",
    "TEST_SIZE = 0.2\n",
    "\n",
    "# Set parameters for decoration of plots\n",
    "params = {'legend.fontsize' : 'large',\n",
    "          'figure.figsize'  : (15,15),\n",
    "          'axes.labelsize'  : 'x-large',\n",
    "          'axes.titlesize'  :'x-large',\n",
    "          'xtick.labelsize' :'large',\n",
    "          'ytick.labelsize' :'large',\n",
    "         }\n",
    "\n",
    "CMAP = plt.cm.coolwarm\n",
    "\n",
    "plt.rcParams.update(params) # update rcParams\n",
    "\n",
    "plt.style.use('seaborn-v0_8-darkgrid') # plt.style.use('ggplot')"
   ]
  },
  {
   "cell_type": "markdown",
   "metadata": {},
   "source": [
    "## Basic Hygiene"
   ]
  },
  {
   "cell_type": "code",
   "execution_count": 4,
   "metadata": {},
   "outputs": [],
   "source": [
    "# Check if all directories are present\n",
    "if not os.path.exists(os.path.join(outDir)):\n",
    "    os.makedirs(os.path.join(outDir))\n",
    "    print ('Created {} directory'.format(outDir))\n",
    "\n",
    "if not os.path.exists(os.path.join(modelDir, subDir)):\n",
    "    os.makedirs(os.path.join(modelDir, subDir))\n",
    "    print ('Created {} directory'.format(os.path.join(modelDir, subDir)))\n",
    "    "
   ]
  },
  {
   "cell_type": "code",
   "execution_count": 5,
   "metadata": {},
   "outputs": [
    {
     "name": "stderr",
     "output_type": "stream",
     "text": [
      "2024-05-19 18:52:13.991967: I external/local_xla/xla/stream_executor/cuda/cuda_executor.cc:901] successful NUMA node read from SysFS had negative value (-1), but there must be at least one NUMA node, so returning NUMA node zero. See more at https://github.com/torvalds/linux/blob/v6.0/Documentation/ABI/testing/sysfs-bus-pci#L344-L355\n",
      "2024-05-19 18:52:14.023304: I external/local_xla/xla/stream_executor/cuda/cuda_executor.cc:901] successful NUMA node read from SysFS had negative value (-1), but there must be at least one NUMA node, so returning NUMA node zero. See more at https://github.com/torvalds/linux/blob/v6.0/Documentation/ABI/testing/sysfs-bus-pci#L344-L355\n",
      "2024-05-19 18:52:14.023553: I external/local_xla/xla/stream_executor/cuda/cuda_executor.cc:901] successful NUMA node read from SysFS had negative value (-1), but there must be at least one NUMA node, so returning NUMA node zero. See more at https://github.com/torvalds/linux/blob/v6.0/Documentation/ABI/testing/sysfs-bus-pci#L344-L355\n"
     ]
    }
   ],
   "source": [
    "### Settings so that Tensorflow can not Hog all the GPU memory\n",
    "physical_devices = tf.config.list_physical_devices('GPU') \n",
    "\n",
    "if len(physical_devices) > 0:\n",
    "    tf.config.experimental.set_memory_growth(physical_devices[0], True)"
   ]
  },
  {
   "cell_type": "markdown",
   "metadata": {},
   "source": [
    "## Read FIFA 2019 data set"
   ]
  },
  {
   "cell_type": "code",
   "execution_count": 6,
   "metadata": {},
   "outputs": [
    {
     "data": {
      "text/plain": [
       "(18207, 89)"
      ]
     },
     "execution_count": 6,
     "metadata": {},
     "output_type": "execute_result"
    }
   ],
   "source": [
    "data_df = pd.read_csv(os.path.join(inpDir, 'fifa_2019.csv'))\n",
    "data_df.shape"
   ]
  },
  {
   "cell_type": "code",
   "execution_count": 7,
   "metadata": {},
   "outputs": [
    {
     "data": {
      "text/html": [
       "<div>\n",
       "<style scoped>\n",
       "    .dataframe tbody tr th:only-of-type {\n",
       "        vertical-align: middle;\n",
       "    }\n",
       "\n",
       "    .dataframe tbody tr th {\n",
       "        vertical-align: top;\n",
       "    }\n",
       "\n",
       "    .dataframe thead th {\n",
       "        text-align: right;\n",
       "    }\n",
       "</style>\n",
       "<table border=\"1\" class=\"dataframe\">\n",
       "  <thead>\n",
       "    <tr style=\"text-align: right;\">\n",
       "      <th></th>\n",
       "      <th>Unnamed: 0</th>\n",
       "      <th>ID</th>\n",
       "      <th>Name</th>\n",
       "      <th>Age</th>\n",
       "      <th>Photo</th>\n",
       "      <th>Nationality</th>\n",
       "      <th>Flag</th>\n",
       "      <th>Overall</th>\n",
       "      <th>Potential</th>\n",
       "      <th>Club</th>\n",
       "      <th>...</th>\n",
       "      <th>Composure</th>\n",
       "      <th>Marking</th>\n",
       "      <th>StandingTackle</th>\n",
       "      <th>SlidingTackle</th>\n",
       "      <th>GKDiving</th>\n",
       "      <th>GKHandling</th>\n",
       "      <th>GKKicking</th>\n",
       "      <th>GKPositioning</th>\n",
       "      <th>GKReflexes</th>\n",
       "      <th>Release Clause</th>\n",
       "    </tr>\n",
       "  </thead>\n",
       "  <tbody>\n",
       "    <tr>\n",
       "      <th>0</th>\n",
       "      <td>0</td>\n",
       "      <td>158023</td>\n",
       "      <td>L. Messi</td>\n",
       "      <td>31</td>\n",
       "      <td>https://cdn.sofifa.org/players/4/19/158023.png</td>\n",
       "      <td>Argentina</td>\n",
       "      <td>https://cdn.sofifa.org/flags/52.png</td>\n",
       "      <td>94</td>\n",
       "      <td>94</td>\n",
       "      <td>FC Barcelona</td>\n",
       "      <td>...</td>\n",
       "      <td>96.0</td>\n",
       "      <td>33.0</td>\n",
       "      <td>28.0</td>\n",
       "      <td>26.0</td>\n",
       "      <td>6.0</td>\n",
       "      <td>11.0</td>\n",
       "      <td>15.0</td>\n",
       "      <td>14.0</td>\n",
       "      <td>8.0</td>\n",
       "      <td>€226.5M</td>\n",
       "    </tr>\n",
       "    <tr>\n",
       "      <th>1</th>\n",
       "      <td>1</td>\n",
       "      <td>20801</td>\n",
       "      <td>Cristiano Ronaldo</td>\n",
       "      <td>33</td>\n",
       "      <td>https://cdn.sofifa.org/players/4/19/20801.png</td>\n",
       "      <td>Portugal</td>\n",
       "      <td>https://cdn.sofifa.org/flags/38.png</td>\n",
       "      <td>94</td>\n",
       "      <td>94</td>\n",
       "      <td>Juventus</td>\n",
       "      <td>...</td>\n",
       "      <td>95.0</td>\n",
       "      <td>28.0</td>\n",
       "      <td>31.0</td>\n",
       "      <td>23.0</td>\n",
       "      <td>7.0</td>\n",
       "      <td>11.0</td>\n",
       "      <td>15.0</td>\n",
       "      <td>14.0</td>\n",
       "      <td>11.0</td>\n",
       "      <td>€127.1M</td>\n",
       "    </tr>\n",
       "    <tr>\n",
       "      <th>2</th>\n",
       "      <td>2</td>\n",
       "      <td>190871</td>\n",
       "      <td>Neymar Jr</td>\n",
       "      <td>26</td>\n",
       "      <td>https://cdn.sofifa.org/players/4/19/190871.png</td>\n",
       "      <td>Brazil</td>\n",
       "      <td>https://cdn.sofifa.org/flags/54.png</td>\n",
       "      <td>92</td>\n",
       "      <td>93</td>\n",
       "      <td>Paris Saint-Germain</td>\n",
       "      <td>...</td>\n",
       "      <td>94.0</td>\n",
       "      <td>27.0</td>\n",
       "      <td>24.0</td>\n",
       "      <td>33.0</td>\n",
       "      <td>9.0</td>\n",
       "      <td>9.0</td>\n",
       "      <td>15.0</td>\n",
       "      <td>15.0</td>\n",
       "      <td>11.0</td>\n",
       "      <td>€228.1M</td>\n",
       "    </tr>\n",
       "    <tr>\n",
       "      <th>3</th>\n",
       "      <td>3</td>\n",
       "      <td>193080</td>\n",
       "      <td>De Gea</td>\n",
       "      <td>27</td>\n",
       "      <td>https://cdn.sofifa.org/players/4/19/193080.png</td>\n",
       "      <td>Spain</td>\n",
       "      <td>https://cdn.sofifa.org/flags/45.png</td>\n",
       "      <td>91</td>\n",
       "      <td>93</td>\n",
       "      <td>Manchester United</td>\n",
       "      <td>...</td>\n",
       "      <td>68.0</td>\n",
       "      <td>15.0</td>\n",
       "      <td>21.0</td>\n",
       "      <td>13.0</td>\n",
       "      <td>90.0</td>\n",
       "      <td>85.0</td>\n",
       "      <td>87.0</td>\n",
       "      <td>88.0</td>\n",
       "      <td>94.0</td>\n",
       "      <td>€138.6M</td>\n",
       "    </tr>\n",
       "    <tr>\n",
       "      <th>4</th>\n",
       "      <td>4</td>\n",
       "      <td>192985</td>\n",
       "      <td>K. De Bruyne</td>\n",
       "      <td>27</td>\n",
       "      <td>https://cdn.sofifa.org/players/4/19/192985.png</td>\n",
       "      <td>Belgium</td>\n",
       "      <td>https://cdn.sofifa.org/flags/7.png</td>\n",
       "      <td>91</td>\n",
       "      <td>92</td>\n",
       "      <td>Manchester City</td>\n",
       "      <td>...</td>\n",
       "      <td>88.0</td>\n",
       "      <td>68.0</td>\n",
       "      <td>58.0</td>\n",
       "      <td>51.0</td>\n",
       "      <td>15.0</td>\n",
       "      <td>13.0</td>\n",
       "      <td>5.0</td>\n",
       "      <td>10.0</td>\n",
       "      <td>13.0</td>\n",
       "      <td>€196.4M</td>\n",
       "    </tr>\n",
       "  </tbody>\n",
       "</table>\n",
       "<p>5 rows × 89 columns</p>\n",
       "</div>"
      ],
      "text/plain": [
       "   Unnamed: 0      ID               Name  Age  \\\n",
       "0           0  158023           L. Messi   31   \n",
       "1           1   20801  Cristiano Ronaldo   33   \n",
       "2           2  190871          Neymar Jr   26   \n",
       "3           3  193080             De Gea   27   \n",
       "4           4  192985       K. De Bruyne   27   \n",
       "\n",
       "                                            Photo Nationality  \\\n",
       "0  https://cdn.sofifa.org/players/4/19/158023.png   Argentina   \n",
       "1   https://cdn.sofifa.org/players/4/19/20801.png    Portugal   \n",
       "2  https://cdn.sofifa.org/players/4/19/190871.png      Brazil   \n",
       "3  https://cdn.sofifa.org/players/4/19/193080.png       Spain   \n",
       "4  https://cdn.sofifa.org/players/4/19/192985.png     Belgium   \n",
       "\n",
       "                                  Flag  Overall  Potential  \\\n",
       "0  https://cdn.sofifa.org/flags/52.png       94         94   \n",
       "1  https://cdn.sofifa.org/flags/38.png       94         94   \n",
       "2  https://cdn.sofifa.org/flags/54.png       92         93   \n",
       "3  https://cdn.sofifa.org/flags/45.png       91         93   \n",
       "4   https://cdn.sofifa.org/flags/7.png       91         92   \n",
       "\n",
       "                  Club  ... Composure Marking StandingTackle  SlidingTackle  \\\n",
       "0         FC Barcelona  ...      96.0    33.0           28.0           26.0   \n",
       "1             Juventus  ...      95.0    28.0           31.0           23.0   \n",
       "2  Paris Saint-Germain  ...      94.0    27.0           24.0           33.0   \n",
       "3    Manchester United  ...      68.0    15.0           21.0           13.0   \n",
       "4      Manchester City  ...      88.0    68.0           58.0           51.0   \n",
       "\n",
       "  GKDiving  GKHandling  GKKicking  GKPositioning GKReflexes Release Clause  \n",
       "0      6.0        11.0       15.0           14.0        8.0        €226.5M  \n",
       "1      7.0        11.0       15.0           14.0       11.0        €127.1M  \n",
       "2      9.0         9.0       15.0           15.0       11.0        €228.1M  \n",
       "3     90.0        85.0       87.0           88.0       94.0        €138.6M  \n",
       "4     15.0        13.0        5.0           10.0       13.0        €196.4M  \n",
       "\n",
       "[5 rows x 89 columns]"
      ]
     },
     "execution_count": 7,
     "metadata": {},
     "output_type": "execute_result"
    }
   ],
   "source": [
    "# removing rows with position = null\n",
    "data_df = data_df[data_df[\"Position\"].notnull()]\n",
    "data_df.head()"
   ]
  },
  {
   "cell_type": "code",
   "execution_count": 8,
   "metadata": {},
   "outputs": [
    {
     "data": {
      "text/html": [
       "<div>\n",
       "<style scoped>\n",
       "    .dataframe tbody tr th:only-of-type {\n",
       "        vertical-align: middle;\n",
       "    }\n",
       "\n",
       "    .dataframe tbody tr th {\n",
       "        vertical-align: top;\n",
       "    }\n",
       "\n",
       "    .dataframe thead th {\n",
       "        text-align: right;\n",
       "    }\n",
       "</style>\n",
       "<table border=\"1\" class=\"dataframe\">\n",
       "  <thead>\n",
       "    <tr style=\"text-align: right;\">\n",
       "      <th></th>\n",
       "      <th>Position</th>\n",
       "      <th>Finishing</th>\n",
       "      <th>HeadingAccuracy</th>\n",
       "      <th>ShortPassing</th>\n",
       "      <th>Volleys</th>\n",
       "      <th>Dribbling</th>\n",
       "      <th>Curve</th>\n",
       "      <th>FKAccuracy</th>\n",
       "      <th>LongPassing</th>\n",
       "      <th>BallControl</th>\n",
       "      <th>...</th>\n",
       "      <th>Penalties</th>\n",
       "      <th>Composure</th>\n",
       "      <th>Marking</th>\n",
       "      <th>StandingTackle</th>\n",
       "      <th>SlidingTackle</th>\n",
       "      <th>GKDiving</th>\n",
       "      <th>GKHandling</th>\n",
       "      <th>GKKicking</th>\n",
       "      <th>GKPositioning</th>\n",
       "      <th>GKReflexes</th>\n",
       "    </tr>\n",
       "  </thead>\n",
       "  <tbody>\n",
       "    <tr>\n",
       "      <th>0</th>\n",
       "      <td>RF</td>\n",
       "      <td>95.0</td>\n",
       "      <td>70.0</td>\n",
       "      <td>90.0</td>\n",
       "      <td>86.0</td>\n",
       "      <td>97.0</td>\n",
       "      <td>93.0</td>\n",
       "      <td>94.0</td>\n",
       "      <td>87.0</td>\n",
       "      <td>96.0</td>\n",
       "      <td>...</td>\n",
       "      <td>75.0</td>\n",
       "      <td>96.0</td>\n",
       "      <td>33.0</td>\n",
       "      <td>28.0</td>\n",
       "      <td>26.0</td>\n",
       "      <td>6.0</td>\n",
       "      <td>11.0</td>\n",
       "      <td>15.0</td>\n",
       "      <td>14.0</td>\n",
       "      <td>8.0</td>\n",
       "    </tr>\n",
       "    <tr>\n",
       "      <th>1</th>\n",
       "      <td>ST</td>\n",
       "      <td>94.0</td>\n",
       "      <td>89.0</td>\n",
       "      <td>81.0</td>\n",
       "      <td>87.0</td>\n",
       "      <td>88.0</td>\n",
       "      <td>81.0</td>\n",
       "      <td>76.0</td>\n",
       "      <td>77.0</td>\n",
       "      <td>94.0</td>\n",
       "      <td>...</td>\n",
       "      <td>85.0</td>\n",
       "      <td>95.0</td>\n",
       "      <td>28.0</td>\n",
       "      <td>31.0</td>\n",
       "      <td>23.0</td>\n",
       "      <td>7.0</td>\n",
       "      <td>11.0</td>\n",
       "      <td>15.0</td>\n",
       "      <td>14.0</td>\n",
       "      <td>11.0</td>\n",
       "    </tr>\n",
       "    <tr>\n",
       "      <th>2</th>\n",
       "      <td>LW</td>\n",
       "      <td>87.0</td>\n",
       "      <td>62.0</td>\n",
       "      <td>84.0</td>\n",
       "      <td>84.0</td>\n",
       "      <td>96.0</td>\n",
       "      <td>88.0</td>\n",
       "      <td>87.0</td>\n",
       "      <td>78.0</td>\n",
       "      <td>95.0</td>\n",
       "      <td>...</td>\n",
       "      <td>81.0</td>\n",
       "      <td>94.0</td>\n",
       "      <td>27.0</td>\n",
       "      <td>24.0</td>\n",
       "      <td>33.0</td>\n",
       "      <td>9.0</td>\n",
       "      <td>9.0</td>\n",
       "      <td>15.0</td>\n",
       "      <td>15.0</td>\n",
       "      <td>11.0</td>\n",
       "    </tr>\n",
       "    <tr>\n",
       "      <th>3</th>\n",
       "      <td>GK</td>\n",
       "      <td>13.0</td>\n",
       "      <td>21.0</td>\n",
       "      <td>50.0</td>\n",
       "      <td>13.0</td>\n",
       "      <td>18.0</td>\n",
       "      <td>21.0</td>\n",
       "      <td>19.0</td>\n",
       "      <td>51.0</td>\n",
       "      <td>42.0</td>\n",
       "      <td>...</td>\n",
       "      <td>40.0</td>\n",
       "      <td>68.0</td>\n",
       "      <td>15.0</td>\n",
       "      <td>21.0</td>\n",
       "      <td>13.0</td>\n",
       "      <td>90.0</td>\n",
       "      <td>85.0</td>\n",
       "      <td>87.0</td>\n",
       "      <td>88.0</td>\n",
       "      <td>94.0</td>\n",
       "    </tr>\n",
       "    <tr>\n",
       "      <th>4</th>\n",
       "      <td>RCM</td>\n",
       "      <td>82.0</td>\n",
       "      <td>55.0</td>\n",
       "      <td>92.0</td>\n",
       "      <td>82.0</td>\n",
       "      <td>86.0</td>\n",
       "      <td>85.0</td>\n",
       "      <td>83.0</td>\n",
       "      <td>91.0</td>\n",
       "      <td>91.0</td>\n",
       "      <td>...</td>\n",
       "      <td>79.0</td>\n",
       "      <td>88.0</td>\n",
       "      <td>68.0</td>\n",
       "      <td>58.0</td>\n",
       "      <td>51.0</td>\n",
       "      <td>15.0</td>\n",
       "      <td>13.0</td>\n",
       "      <td>5.0</td>\n",
       "      <td>10.0</td>\n",
       "      <td>13.0</td>\n",
       "    </tr>\n",
       "  </tbody>\n",
       "</table>\n",
       "<p>5 rows × 34 columns</p>\n",
       "</div>"
      ],
      "text/plain": [
       "  Position  Finishing  HeadingAccuracy  ShortPassing  Volleys  Dribbling  \\\n",
       "0       RF       95.0             70.0          90.0     86.0       97.0   \n",
       "1       ST       94.0             89.0          81.0     87.0       88.0   \n",
       "2       LW       87.0             62.0          84.0     84.0       96.0   \n",
       "3       GK       13.0             21.0          50.0     13.0       18.0   \n",
       "4      RCM       82.0             55.0          92.0     82.0       86.0   \n",
       "\n",
       "   Curve  FKAccuracy  LongPassing  BallControl  ...  Penalties  Composure  \\\n",
       "0   93.0        94.0         87.0         96.0  ...       75.0       96.0   \n",
       "1   81.0        76.0         77.0         94.0  ...       85.0       95.0   \n",
       "2   88.0        87.0         78.0         95.0  ...       81.0       94.0   \n",
       "3   21.0        19.0         51.0         42.0  ...       40.0       68.0   \n",
       "4   85.0        83.0         91.0         91.0  ...       79.0       88.0   \n",
       "\n",
       "   Marking  StandingTackle  SlidingTackle  GKDiving  GKHandling  GKKicking  \\\n",
       "0     33.0            28.0           26.0       6.0        11.0       15.0   \n",
       "1     28.0            31.0           23.0       7.0        11.0       15.0   \n",
       "2     27.0            24.0           33.0       9.0         9.0       15.0   \n",
       "3     15.0            21.0           13.0      90.0        85.0       87.0   \n",
       "4     68.0            58.0           51.0      15.0        13.0        5.0   \n",
       "\n",
       "   GKPositioning  GKReflexes  \n",
       "0           14.0         8.0  \n",
       "1           14.0        11.0  \n",
       "2           15.0        11.0  \n",
       "3           88.0        94.0  \n",
       "4           10.0        13.0  \n",
       "\n",
       "[5 rows x 34 columns]"
      ]
     },
     "execution_count": 8,
     "metadata": {},
     "output_type": "execute_result"
    }
   ],
   "source": [
    "# Following columns appear to be relevant for our analysis\n",
    "rel_cols = ['Position', 'Finishing', 'HeadingAccuracy', 'ShortPassing', 'Volleys', 'Dribbling',\n",
    "            'Curve', 'FKAccuracy', 'LongPassing', 'BallControl', 'Acceleration',\n",
    "            'SprintSpeed', 'Agility', 'Reactions', 'Balance', 'ShotPower',\n",
    "            'Jumping', 'Stamina', 'Strength', 'LongShots', 'Aggression',\n",
    "            'Interceptions', 'Positioning', 'Vision', 'Penalties', 'Composure',\n",
    "            'Marking', 'StandingTackle', 'SlidingTackle', 'GKDiving', 'GKHandling',\n",
    "            'GKKicking', 'GKPositioning', 'GKReflexes']\n",
    "\n",
    "data_df = data_df[rel_cols]\n",
    "data_df.head()"
   ]
  },
  {
   "cell_type": "code",
   "execution_count": 9,
   "metadata": {},
   "outputs": [
    {
     "data": {
      "text/plain": [
       "Position           0\n",
       "Finishing          0\n",
       "HeadingAccuracy    0\n",
       "ShortPassing       0\n",
       "Volleys            0\n",
       "Dribbling          0\n",
       "Curve              0\n",
       "FKAccuracy         0\n",
       "LongPassing        0\n",
       "BallControl        0\n",
       "Acceleration       0\n",
       "SprintSpeed        0\n",
       "Agility            0\n",
       "Reactions          0\n",
       "Balance            0\n",
       "ShotPower          0\n",
       "Jumping            0\n",
       "Stamina            0\n",
       "Strength           0\n",
       "LongShots          0\n",
       "Aggression         0\n",
       "Interceptions      0\n",
       "Positioning        0\n",
       "Vision             0\n",
       "Penalties          0\n",
       "Composure          0\n",
       "Marking            0\n",
       "StandingTackle     0\n",
       "SlidingTackle      0\n",
       "GKDiving           0\n",
       "GKHandling         0\n",
       "GKKicking          0\n",
       "GKPositioning      0\n",
       "GKReflexes         0\n",
       "dtype: int64"
      ]
     },
     "execution_count": 9,
     "metadata": {},
     "output_type": "execute_result"
    }
   ],
   "source": [
    "# Are there NaNs Still?\n",
    "\n",
    "data_df.isna().sum()"
   ]
  },
  {
   "cell_type": "code",
   "execution_count": 10,
   "metadata": {},
   "outputs": [],
   "source": [
    "goalkeeper = 'GK'\n",
    "forward = ['ST', 'LW', 'RW', 'LF', 'RF', 'RS','LS', 'CF']\n",
    "midfielder = ['CM','RCM','LCM', 'CDM','RDM','LDM', 'CAM', 'LAM', 'RAM', 'RM', 'LM']\n",
    "defender = ['CB', 'RCB', 'LCB', 'LWB', 'RWB', 'LB', 'RB']"
   ]
  },
  {
   "cell_type": "code",
   "execution_count": 11,
   "metadata": {},
   "outputs": [],
   "source": [
    "#Assign labels to goalkeepers\n",
    "data_df.loc[data_df[\"Position\"] == \"GK\", \"Position\"] = 0\n",
    "\n",
    "#Defenders\n",
    "data_df.loc[data_df[\"Position\"].isin(defender), \"Position\"] = 1\n",
    "\n",
    "#Midfielders\n",
    "data_df.loc[data_df[\"Position\"].isin(midfielder), \"Position\"] = 2\n",
    "\n",
    "#Forward\n",
    "data_df.loc[data_df[\"Position\"].isin(forward), \"Position\"] = 3\n",
    "\n",
    "# Convert Column \"Position\" to numeric so that Pandas does not complain\n",
    "data_df['Position'] = pd.to_numeric(data_df['Position'], downcast=\"integer\")"
   ]
  },
  {
   "cell_type": "code",
   "execution_count": 12,
   "metadata": {},
   "outputs": [],
   "source": [
    "class_labels = {0: 'Goal Keeper', 1: 'Defender', 2: 'Mid-Fielder', 3: 'Forward'}"
   ]
  },
  {
   "cell_type": "code",
   "execution_count": 13,
   "metadata": {},
   "outputs": [],
   "source": [
    "y = data_df[\"Position\"].to_numpy()\n",
    "\n",
    "X = data_df.drop(\"Position\", axis = 1)"
   ]
  },
  {
   "cell_type": "code",
   "execution_count": 14,
   "metadata": {},
   "outputs": [
    {
     "name": "stdout",
     "output_type": "stream",
     "text": [
      "(14517, 33) (14517,) (3630, 33) (3630,)\n"
     ]
    }
   ],
   "source": [
    "#  Split the data in training and test sets to measure performance of the model.\n",
    "X_train, X_test, y_train, y_test = train_test_split(X, y, \n",
    "                                                    test_size=TEST_SIZE,\n",
    "                                                    stratify=y,\n",
    "                                                    random_state=RANDOM_STATE )\n",
    "\n",
    "print (X_train.shape, y_train.shape, X_test.shape, y_test.shape)"
   ]
  },
  {
   "cell_type": "code",
   "execution_count": 15,
   "metadata": {},
   "outputs": [],
   "source": [
    "sc = StandardScaler()\n",
    "\n",
    "X_train = sc.fit_transform(X_train)\n",
    "\n",
    "X_test = sc.transform(X_test)"
   ]
  },
  {
   "cell_type": "code",
   "execution_count": 16,
   "metadata": {},
   "outputs": [
    {
     "data": {
      "text/plain": [
       "(14517, 33)"
      ]
     },
     "execution_count": 16,
     "metadata": {},
     "output_type": "execute_result"
    }
   ],
   "source": [
    "X_train.shape"
   ]
  },
  {
   "cell_type": "markdown",
   "metadata": {},
   "source": [
    "## Prepare model\n",
    "\n",
    "Build the `tf.keras.Sequential` model by stacking layers. Choose an optimizer and loss function for training:"
   ]
  },
  {
   "cell_type": "code",
   "execution_count": 17,
   "metadata": {},
   "outputs": [
    {
     "name": "stderr",
     "output_type": "stream",
     "text": [
      "2024-05-19 18:52:14.336594: I external/local_xla/xla/stream_executor/cuda/cuda_executor.cc:901] successful NUMA node read from SysFS had negative value (-1), but there must be at least one NUMA node, so returning NUMA node zero. See more at https://github.com/torvalds/linux/blob/v6.0/Documentation/ABI/testing/sysfs-bus-pci#L344-L355\n",
      "2024-05-19 18:52:14.336995: I external/local_xla/xla/stream_executor/cuda/cuda_executor.cc:901] successful NUMA node read from SysFS had negative value (-1), but there must be at least one NUMA node, so returning NUMA node zero. See more at https://github.com/torvalds/linux/blob/v6.0/Documentation/ABI/testing/sysfs-bus-pci#L344-L355\n",
      "2024-05-19 18:52:14.337333: I external/local_xla/xla/stream_executor/cuda/cuda_executor.cc:901] successful NUMA node read from SysFS had negative value (-1), but there must be at least one NUMA node, so returning NUMA node zero. See more at https://github.com/torvalds/linux/blob/v6.0/Documentation/ABI/testing/sysfs-bus-pci#L344-L355\n",
      "2024-05-19 18:52:14.404327: I external/local_xla/xla/stream_executor/cuda/cuda_executor.cc:901] successful NUMA node read from SysFS had negative value (-1), but there must be at least one NUMA node, so returning NUMA node zero. See more at https://github.com/torvalds/linux/blob/v6.0/Documentation/ABI/testing/sysfs-bus-pci#L344-L355\n",
      "2024-05-19 18:52:14.404601: I external/local_xla/xla/stream_executor/cuda/cuda_executor.cc:901] successful NUMA node read from SysFS had negative value (-1), but there must be at least one NUMA node, so returning NUMA node zero. See more at https://github.com/torvalds/linux/blob/v6.0/Documentation/ABI/testing/sysfs-bus-pci#L344-L355\n",
      "2024-05-19 18:52:14.404806: I external/local_xla/xla/stream_executor/cuda/cuda_executor.cc:901] successful NUMA node read from SysFS had negative value (-1), but there must be at least one NUMA node, so returning NUMA node zero. See more at https://github.com/torvalds/linux/blob/v6.0/Documentation/ABI/testing/sysfs-bus-pci#L344-L355\n",
      "2024-05-19 18:52:14.404968: I tensorflow/core/common_runtime/gpu/gpu_device.cc:1929] Created device /job:localhost/replica:0/task:0/device:GPU:0 with 3424 MB memory:  -> device: 0, name: NVIDIA GeForce RTX 3060 Laptop GPU, pci bus id: 0000:01:00.0, compute capability: 8.6\n"
     ]
    }
   ],
   "source": [
    "# Calling class Sequential and pass all layers as a list\n",
    "model = tf.keras.models.Sequential([\n",
    "  tf.keras.layers.Dense(18, activation=tf.nn.silu), # alternatively activation = 'swish' \n",
    "  tf.keras.layers.Dense(4) # notice absence of softmax function\n",
    "])"
   ]
  },
  {
   "cell_type": "markdown",
   "metadata": {},
   "source": [
    "## Reference\n",
    "<p style=\"font-family: Arial; font-size:1.2em;\">\n",
    "Details of <a href = \"https://www.tensorflow.org/api_docs/python/tf/keras/Sequential\">Sequential Model</a>. Sequential provides training and predict features on this model.\n",
    "</p>"
   ]
  },
  {
   "cell_type": "markdown",
   "metadata": {},
   "source": [
    "### Functional API\n",
    "\n",
    "<p style=\"font-family: Arial; font-size:1.2em;\">You can also instantiate a Model with the <strong>\"Functional API\"</strong>, where you start from Input, you chain layer calls to specify the model's forward pass, and finally you create your model from inputs and outputs:\n",
    "\n",
    ">import tensorflow as tf\n",
    "\n",
    ">inputs = tf.keras.Input(shape=(33,))\n",
    "    \n",
    ">x = tf.keras.layers.Dense(18, activation=tf.nn.relu)(inputs)\n",
    "\n",
    ">outputs = tf.keras.layers.Dense(4, activation=tf.nn.softmax)(x)\n",
    "\n",
    ">model = tf.keras.Model(inputs=inputs, outputs=outputs)\n",
    "\n",
    "    \n",
    "<p style=\"font-family: Arial; font-size:1.2em;\">You can also extend the model class, if love to live by sword!!\n",
    "</p>"
   ]
  },
  {
   "cell_type": "code",
   "execution_count": 18,
   "metadata": {},
   "outputs": [],
   "source": [
    "inputs = tf.keras.Input(shape=(33,))\n",
    "    \n",
    "x = tf.keras.layers.Dense(18, activation=tf.nn.relu)(inputs)\n",
    "\n",
    "outputs = tf.keras.layers.Dense(4)(x)\n",
    "\n",
    "model1 = tf.keras.Model(inputs=inputs, outputs=outputs)"
   ]
  },
  {
   "cell_type": "markdown",
   "metadata": {},
   "source": [
    "<p style=\"font-family: Arial; font-size:1.2em;\">\n",
    "    For each example the model returns a vector of \"logits\" or \"log-odds\" scores, one for each class.\n",
    "</p>"
   ]
  },
  {
   "cell_type": "code",
   "execution_count": 19,
   "metadata": {},
   "outputs": [
    {
     "data": {
      "text/plain": [
       "(1, 33)"
      ]
     },
     "execution_count": 19,
     "metadata": {},
     "output_type": "execute_result"
    }
   ],
   "source": [
    "X_train[:1].shape"
   ]
  },
  {
   "cell_type": "code",
   "execution_count": 20,
   "metadata": {},
   "outputs": [
    {
     "data": {
      "text/plain": [
       "array([[ 0.84396466,  0.27358763, -0.52239617,  0.23109725,  0.29705091,\n",
       "        -0.28022877, -0.90549975, -0.76923736,  0.03641655,  0.69690341,\n",
       "         0.56150403,  0.64223997, -0.31191556,  0.42687437,  0.09102389,\n",
       "        -0.00583853, -0.0156703 , -0.26906524,  0.14948988, -0.39569289,\n",
       "        -1.58556533,  0.56596068, -0.45127189,  0.92378593, -0.5824395 ,\n",
       "        -1.31972485, -1.46321229, -1.58353669, -0.31775841, -0.55501322,\n",
       "        -0.37748688, -0.25744747, -0.31840455]])"
      ]
     },
     "execution_count": 20,
     "metadata": {},
     "output_type": "execute_result"
    }
   ],
   "source": [
    "X_train[:1]"
   ]
  },
  {
   "cell_type": "code",
   "execution_count": 21,
   "metadata": {},
   "outputs": [
    {
     "data": {
      "text/plain": [
       "array([[-0.7028625 ,  0.9750962 ,  0.87502474,  0.6270509 ]],\n",
       "      dtype=float32)"
      ]
     },
     "execution_count": 21,
     "metadata": {},
     "output_type": "execute_result"
    }
   ],
   "source": [
    "predictions = model(X_train[:1]).numpy()\n",
    "predictions"
   ]
  },
  {
   "cell_type": "code",
   "execution_count": 22,
   "metadata": {},
   "outputs": [
    {
     "data": {
      "text/plain": [
       "1.7743094"
      ]
     },
     "execution_count": 22,
     "metadata": {},
     "output_type": "execute_result"
    }
   ],
   "source": [
    "predictions.sum()"
   ]
  },
  {
   "cell_type": "markdown",
   "metadata": {},
   "source": [
    "The `tf.nn.softmax` function converts these logits to \"probabilities\" for each class: "
   ]
  },
  {
   "cell_type": "code",
   "execution_count": 23,
   "metadata": {},
   "outputs": [
    {
     "data": {
      "text/plain": [
       "array([[0.06675549, 0.35744995, 0.32341096, 0.25238356]], dtype=float32)"
      ]
     },
     "execution_count": 23,
     "metadata": {},
     "output_type": "execute_result"
    }
   ],
   "source": [
    "tf.nn.softmax(predictions).numpy()"
   ]
  },
  {
   "cell_type": "code",
   "execution_count": 24,
   "metadata": {},
   "outputs": [
    {
     "data": {
      "text/plain": [
       "1.0"
      ]
     },
     "execution_count": 24,
     "metadata": {},
     "output_type": "execute_result"
    }
   ],
   "source": [
    "tf.nn.softmax(predictions).numpy().sum()"
   ]
  },
  {
   "cell_type": "code",
   "execution_count": 25,
   "metadata": {},
   "outputs": [
    {
     "name": "stdout",
     "output_type": "stream",
     "text": [
      "Model: \"sequential\"\n",
      "_________________________________________________________________\n",
      " Layer (type)                Output Shape              Param #   \n",
      "=================================================================\n",
      " dense (Dense)               (1, 18)                   612       \n",
      "                                                                 \n",
      " dense_1 (Dense)             (1, 4)                    76        \n",
      "                                                                 \n",
      "=================================================================\n",
      "Total params: 688 (2.69 KB)\n",
      "Trainable params: 688 (2.69 KB)\n",
      "Non-trainable params: 0 (0.00 Byte)\n",
      "_________________________________________________________________\n"
     ]
    }
   ],
   "source": [
    "'''\n",
    "Number of parameters:\n",
    "    layer 1 : 33*18 +18 = 612 \n",
    "    layer 2 : 18*4 + 4\n",
    "We are not locking any layer hence all parameter are trainable    \n",
    "'''\n",
    "\n",
    "model.summary()"
   ]
  },
  {
   "cell_type": "markdown",
   "metadata": {},
   "source": [
    "## Is Model 1 similar??"
   ]
  },
  {
   "cell_type": "code",
   "execution_count": 26,
   "metadata": {},
   "outputs": [],
   "source": [
    "pred1 = model1(X_train[:1]).numpy()"
   ]
  },
  {
   "cell_type": "code",
   "execution_count": 27,
   "metadata": {},
   "outputs": [
    {
     "name": "stdout",
     "output_type": "stream",
     "text": [
      "Model: \"model\"\n",
      "_________________________________________________________________\n",
      " Layer (type)                Output Shape              Param #   \n",
      "=================================================================\n",
      " input_1 (InputLayer)        [(None, 33)]              0         \n",
      "                                                                 \n",
      " dense_2 (Dense)             (None, 18)                612       \n",
      "                                                                 \n",
      " dense_3 (Dense)             (None, 4)                 76        \n",
      "                                                                 \n",
      "=================================================================\n",
      "Total params: 688 (2.69 KB)\n",
      "Trainable params: 688 (2.69 KB)\n",
      "Non-trainable params: 0 (0.00 Byte)\n",
      "_________________________________________________________________\n"
     ]
    }
   ],
   "source": [
    "model1.summary()"
   ]
  },
  {
   "cell_type": "markdown",
   "metadata": {},
   "source": [
    "## Game Changer\n",
    "\n",
    "`Softmax` function is prone to two issues: overflow and underflow.\n",
    "\n",
    "- <b>Overflow</b> occurs when very large numbers are being fed.\n",
    "- <b>Underflow</b> occurs when very small numbers (near zero) are being fed.\n",
    "\n",
    "There are work arounds too, but, TF has its own approach.<br>\n",
    "    \n",
    "Intuition being that every system (32 / 64 bit precision) has limits in terms of largest or smallest value it can accurately process.\n",
    "\n",
    "It also leads to the vanishing gradient in exponential functions. As you go higher/lower the  value will overflow and the gradient will be `zero` irrespective of actually it being a `non-zero`.\n",
    "\n",
    "\n",
    "Our loss function is crossentropy as there are two or more label classes. The labels are provided using one-hot representation. We will use CategoricalCrossentropy loss. \n",
    "    \n",
    ">y_true = [ [0      1    0], [ 0    1   0 ]<br>\n",
    ">y_pred = [ [0.05, 0.95, 0], [0.1, 0.1, 0.8] ]\n",
    "\n",
    "\n",
    "In case, you have not one-hot-encoded use `losses.SparseCategoricalCrossentropy`. It takes a vector of logits and a `True` index and returns a scalar loss for each example."
   ]
  },
  {
   "cell_type": "code",
   "execution_count": 28,
   "metadata": {},
   "outputs": [
    {
     "data": {
      "text/plain": [
       "1.7976931348623157e+308"
      ]
     },
     "execution_count": 28,
     "metadata": {},
     "output_type": "execute_result"
    }
   ],
   "source": [
    "sys.float_info.max"
   ]
  },
  {
   "cell_type": "code",
   "execution_count": 29,
   "metadata": {},
   "outputs": [
    {
     "data": {
      "text/plain": [
       "2.2250738585072014e-308"
      ]
     },
     "execution_count": 29,
     "metadata": {},
     "output_type": "execute_result"
    }
   ],
   "source": [
    "sys.float_info.min"
   ]
  },
  {
   "cell_type": "code",
   "execution_count": 30,
   "metadata": {},
   "outputs": [
    {
     "data": {
      "text/plain": [
       "709.782712893384"
      ]
     },
     "execution_count": 30,
     "metadata": {},
     "output_type": "execute_result"
    }
   ],
   "source": [
    "np.log(sys.float_info.max)"
   ]
  },
  {
   "cell_type": "code",
   "execution_count": 31,
   "metadata": {},
   "outputs": [
    {
     "name": "stderr",
     "output_type": "stream",
     "text": [
      "/tmp/ipykernel_26406/574927170.py:1: RuntimeWarning: overflow encountered in exp\n",
      "  np.exp(710)\n"
     ]
    },
    {
     "data": {
      "text/plain": [
       "inf"
      ]
     },
     "execution_count": 31,
     "metadata": {},
     "output_type": "execute_result"
    }
   ],
   "source": [
    "np.exp(710)"
   ]
  },
  {
   "cell_type": "code",
   "execution_count": 32,
   "metadata": {},
   "outputs": [],
   "source": [
    "loss_fn = tf.keras.losses.SparseCategoricalCrossentropy ( from_logits = True)"
   ]
  },
  {
   "cell_type": "code",
   "execution_count": 33,
   "metadata": {},
   "outputs": [
    {
     "data": {
      "text/plain": [
       "array([3], dtype=int8)"
      ]
     },
     "execution_count": 33,
     "metadata": {},
     "output_type": "execute_result"
    }
   ],
   "source": [
    "y_train[:1]"
   ]
  },
  {
   "cell_type": "code",
   "execution_count": 34,
   "metadata": {},
   "outputs": [
    {
     "data": {
      "text/plain": [
       "1.3768052"
      ]
     },
     "execution_count": 34,
     "metadata": {},
     "output_type": "execute_result"
    }
   ],
   "source": [
    "loss_fn(y_train[:1], predictions).numpy()"
   ]
  },
  {
   "cell_type": "markdown",
   "metadata": {},
   "source": [
    "Using `model.compile`, specify the training configuration such as:\n",
    "- Loss function to minimize\n",
    "- Optimizer\n",
    "- List of metrics to monitor"
   ]
  },
  {
   "cell_type": "code",
   "execution_count": 35,
   "metadata": {},
   "outputs": [],
   "source": [
    "model.compile(optimizer='adam',\n",
    "              loss=loss_fn,\n",
    "              metrics=['accuracy'])"
   ]
  },
  {
   "cell_type": "markdown",
   "metadata": {},
   "source": [
    "Call `fit()`, which will train the model by slicing the data into `batches` of size `batch_size`, and repeatedly iterating over the entire dataset for a given number of `epochs`. Pass some validation for monitoring validation loss and metrics at the end of each epoch."
   ]
  },
  {
   "cell_type": "code",
   "execution_count": 36,
   "metadata": {
    "scrolled": true
   },
   "outputs": [
    {
     "name": "stdout",
     "output_type": "stream",
     "text": [
      "Epoch 1/100\n"
     ]
    },
    {
     "name": "stderr",
     "output_type": "stream",
     "text": [
      "2024-05-19 18:52:15.208233: I external/local_xla/xla/service/service.cc:168] XLA service 0x7802386a67c0 initialized for platform CUDA (this does not guarantee that XLA will be used). Devices:\n",
      "2024-05-19 18:52:15.208256: I external/local_xla/xla/service/service.cc:176]   StreamExecutor device (0): NVIDIA GeForce RTX 3060 Laptop GPU, Compute Capability 8.6\n",
      "2024-05-19 18:52:15.213154: I tensorflow/compiler/mlir/tensorflow/utils/dump_mlir_util.cc:269] disabling MLIR crash reproducer, set env var `MLIR_CRASH_REPRODUCER_DIRECTORY` to enable.\n",
      "2024-05-19 18:52:15.226670: I external/local_xla/xla/stream_executor/cuda/cuda_dnn.cc:454] Loaded cuDNN version 8902\n",
      "WARNING: All log messages before absl::InitializeLog() is called are written to STDERR\n",
      "I0000 00:00:1716124935.293086   26486 device_compiler.h:186] Compiled cluster using XLA!  This line is logged at most once for the lifetime of the process.\n"
     ]
    },
    {
     "name": "stdout",
     "output_type": "stream",
     "text": [
      "57/57 [==============================] - 1s 3ms/step - loss: 1.3907 - accuracy: 0.3833 - val_loss: 0.9485 - val_accuracy: 0.6336\n",
      "Epoch 2/100\n",
      "57/57 [==============================] - 0s 2ms/step - loss: 0.7956 - accuracy: 0.7132 - val_loss: 0.6698 - val_accuracy: 0.7669\n",
      "Epoch 3/100\n",
      "57/57 [==============================] - 0s 2ms/step - loss: 0.6008 - accuracy: 0.7792 - val_loss: 0.5454 - val_accuracy: 0.7835\n",
      "Epoch 4/100\n",
      "57/57 [==============================] - 0s 2ms/step - loss: 0.5110 - accuracy: 0.7951 - val_loss: 0.4860 - val_accuracy: 0.7997\n",
      "Epoch 5/100\n",
      "57/57 [==============================] - 0s 2ms/step - loss: 0.4630 - accuracy: 0.8095 - val_loss: 0.4511 - val_accuracy: 0.8094\n",
      "Epoch 6/100\n",
      "57/57 [==============================] - 0s 2ms/step - loss: 0.4316 - accuracy: 0.8186 - val_loss: 0.4263 - val_accuracy: 0.8198\n",
      "Epoch 7/100\n",
      "57/57 [==============================] - 0s 2ms/step - loss: 0.4076 - accuracy: 0.8311 - val_loss: 0.4061 - val_accuracy: 0.8234\n",
      "Epoch 8/100\n",
      "57/57 [==============================] - 0s 2ms/step - loss: 0.3880 - accuracy: 0.8388 - val_loss: 0.3888 - val_accuracy: 0.8300\n",
      "Epoch 9/100\n",
      "57/57 [==============================] - 0s 2ms/step - loss: 0.3715 - accuracy: 0.8463 - val_loss: 0.3737 - val_accuracy: 0.8394\n",
      "Epoch 10/100\n",
      "57/57 [==============================] - 0s 2ms/step - loss: 0.3571 - accuracy: 0.8536 - val_loss: 0.3619 - val_accuracy: 0.8455\n",
      "Epoch 11/100\n",
      "57/57 [==============================] - 0s 2ms/step - loss: 0.3456 - accuracy: 0.8583 - val_loss: 0.3518 - val_accuracy: 0.8515\n",
      "Epoch 12/100\n",
      "57/57 [==============================] - 0s 2ms/step - loss: 0.3368 - accuracy: 0.8637 - val_loss: 0.3441 - val_accuracy: 0.8526\n",
      "Epoch 13/100\n",
      "57/57 [==============================] - 0s 3ms/step - loss: 0.3297 - accuracy: 0.8671 - val_loss: 0.3380 - val_accuracy: 0.8551\n",
      "Epoch 14/100\n",
      "57/57 [==============================] - 0s 3ms/step - loss: 0.3243 - accuracy: 0.8699 - val_loss: 0.3335 - val_accuracy: 0.8576\n",
      "Epoch 15/100\n",
      "57/57 [==============================] - 0s 3ms/step - loss: 0.3197 - accuracy: 0.8702 - val_loss: 0.3296 - val_accuracy: 0.8617\n",
      "Epoch 16/100\n",
      "57/57 [==============================] - 0s 2ms/step - loss: 0.3162 - accuracy: 0.8735 - val_loss: 0.3269 - val_accuracy: 0.8603\n",
      "Epoch 17/100\n",
      "57/57 [==============================] - 0s 2ms/step - loss: 0.3133 - accuracy: 0.8721 - val_loss: 0.3241 - val_accuracy: 0.8628\n",
      "Epoch 18/100\n",
      "57/57 [==============================] - 0s 2ms/step - loss: 0.3104 - accuracy: 0.8741 - val_loss: 0.3219 - val_accuracy: 0.8639\n",
      "Epoch 19/100\n",
      "57/57 [==============================] - 0s 2ms/step - loss: 0.3081 - accuracy: 0.8748 - val_loss: 0.3208 - val_accuracy: 0.8669\n",
      "Epoch 20/100\n",
      "57/57 [==============================] - 0s 2ms/step - loss: 0.3057 - accuracy: 0.8759 - val_loss: 0.3186 - val_accuracy: 0.8661\n",
      "Epoch 21/100\n",
      "57/57 [==============================] - 0s 2ms/step - loss: 0.3045 - accuracy: 0.8761 - val_loss: 0.3178 - val_accuracy: 0.8650\n",
      "Epoch 22/100\n",
      "57/57 [==============================] - 0s 2ms/step - loss: 0.3027 - accuracy: 0.8763 - val_loss: 0.3157 - val_accuracy: 0.8680\n",
      "Epoch 23/100\n",
      "57/57 [==============================] - 0s 2ms/step - loss: 0.3010 - accuracy: 0.8787 - val_loss: 0.3141 - val_accuracy: 0.8675\n",
      "Epoch 24/100\n",
      "57/57 [==============================] - 0s 2ms/step - loss: 0.2994 - accuracy: 0.8784 - val_loss: 0.3127 - val_accuracy: 0.8689\n",
      "Epoch 25/100\n",
      "57/57 [==============================] - 0s 2ms/step - loss: 0.2981 - accuracy: 0.8791 - val_loss: 0.3119 - val_accuracy: 0.8691\n",
      "Epoch 26/100\n",
      "57/57 [==============================] - 0s 2ms/step - loss: 0.2968 - accuracy: 0.8798 - val_loss: 0.3106 - val_accuracy: 0.8661\n",
      "Epoch 27/100\n",
      "57/57 [==============================] - 0s 2ms/step - loss: 0.2957 - accuracy: 0.8791 - val_loss: 0.3099 - val_accuracy: 0.8678\n",
      "Epoch 28/100\n",
      "57/57 [==============================] - 0s 2ms/step - loss: 0.2944 - accuracy: 0.8803 - val_loss: 0.3097 - val_accuracy: 0.8647\n",
      "Epoch 29/100\n",
      "57/57 [==============================] - 0s 2ms/step - loss: 0.2938 - accuracy: 0.8803 - val_loss: 0.3079 - val_accuracy: 0.8683\n",
      "Epoch 30/100\n",
      "57/57 [==============================] - 0s 2ms/step - loss: 0.2928 - accuracy: 0.8799 - val_loss: 0.3075 - val_accuracy: 0.8678\n",
      "Epoch 31/100\n",
      "57/57 [==============================] - 0s 2ms/step - loss: 0.2918 - accuracy: 0.8800 - val_loss: 0.3065 - val_accuracy: 0.8683\n",
      "Epoch 32/100\n",
      "57/57 [==============================] - 0s 2ms/step - loss: 0.2913 - accuracy: 0.8806 - val_loss: 0.3067 - val_accuracy: 0.8656\n",
      "Epoch 33/100\n",
      "57/57 [==============================] - 0s 2ms/step - loss: 0.2907 - accuracy: 0.8808 - val_loss: 0.3065 - val_accuracy: 0.8656\n",
      "Epoch 34/100\n",
      "57/57 [==============================] - 0s 2ms/step - loss: 0.2900 - accuracy: 0.8818 - val_loss: 0.3049 - val_accuracy: 0.8664\n",
      "Epoch 35/100\n",
      "57/57 [==============================] - 0s 2ms/step - loss: 0.2893 - accuracy: 0.8809 - val_loss: 0.3042 - val_accuracy: 0.8667\n",
      "Epoch 36/100\n",
      "57/57 [==============================] - 0s 2ms/step - loss: 0.2885 - accuracy: 0.8808 - val_loss: 0.3042 - val_accuracy: 0.8669\n",
      "Epoch 37/100\n",
      "57/57 [==============================] - 0s 2ms/step - loss: 0.2879 - accuracy: 0.8830 - val_loss: 0.3029 - val_accuracy: 0.8702\n",
      "Epoch 38/100\n",
      "57/57 [==============================] - 0s 2ms/step - loss: 0.2878 - accuracy: 0.8819 - val_loss: 0.3026 - val_accuracy: 0.8708\n",
      "Epoch 39/100\n",
      "57/57 [==============================] - 0s 2ms/step - loss: 0.2872 - accuracy: 0.8817 - val_loss: 0.3031 - val_accuracy: 0.8678\n",
      "Epoch 40/100\n",
      "57/57 [==============================] - 0s 2ms/step - loss: 0.2867 - accuracy: 0.8813 - val_loss: 0.3026 - val_accuracy: 0.8689\n",
      "Epoch 41/100\n",
      "57/57 [==============================] - 0s 2ms/step - loss: 0.2860 - accuracy: 0.8829 - val_loss: 0.3014 - val_accuracy: 0.8716\n",
      "Epoch 42/100\n",
      "57/57 [==============================] - 0s 2ms/step - loss: 0.2860 - accuracy: 0.8828 - val_loss: 0.3012 - val_accuracy: 0.8694\n",
      "Epoch 43/100\n",
      "57/57 [==============================] - 0s 2ms/step - loss: 0.2853 - accuracy: 0.8825 - val_loss: 0.3010 - val_accuracy: 0.8708\n",
      "Epoch 44/100\n",
      "57/57 [==============================] - 0s 2ms/step - loss: 0.2849 - accuracy: 0.8816 - val_loss: 0.3004 - val_accuracy: 0.8705\n",
      "Epoch 45/100\n",
      "57/57 [==============================] - 0s 2ms/step - loss: 0.2841 - accuracy: 0.8843 - val_loss: 0.3006 - val_accuracy: 0.8702\n",
      "Epoch 46/100\n",
      "57/57 [==============================] - 0s 2ms/step - loss: 0.2840 - accuracy: 0.8828 - val_loss: 0.2999 - val_accuracy: 0.8725\n",
      "Epoch 47/100\n",
      "57/57 [==============================] - 0s 2ms/step - loss: 0.2838 - accuracy: 0.8836 - val_loss: 0.3005 - val_accuracy: 0.8689\n",
      "Epoch 48/100\n",
      "57/57 [==============================] - 0s 2ms/step - loss: 0.2832 - accuracy: 0.8833 - val_loss: 0.2995 - val_accuracy: 0.8738\n",
      "Epoch 49/100\n",
      "57/57 [==============================] - 0s 2ms/step - loss: 0.2827 - accuracy: 0.8833 - val_loss: 0.2994 - val_accuracy: 0.8733\n",
      "Epoch 50/100\n",
      "57/57 [==============================] - 0s 2ms/step - loss: 0.2825 - accuracy: 0.8843 - val_loss: 0.2992 - val_accuracy: 0.8716\n",
      "Epoch 51/100\n",
      "57/57 [==============================] - 0s 2ms/step - loss: 0.2824 - accuracy: 0.8839 - val_loss: 0.2992 - val_accuracy: 0.8705\n",
      "Epoch 52/100\n",
      "57/57 [==============================] - 0s 2ms/step - loss: 0.2821 - accuracy: 0.8832 - val_loss: 0.2989 - val_accuracy: 0.8708\n",
      "Epoch 53/100\n",
      "57/57 [==============================] - 0s 2ms/step - loss: 0.2815 - accuracy: 0.8833 - val_loss: 0.2988 - val_accuracy: 0.8719\n",
      "Epoch 54/100\n",
      "57/57 [==============================] - 0s 2ms/step - loss: 0.2813 - accuracy: 0.8841 - val_loss: 0.2986 - val_accuracy: 0.8716\n",
      "Epoch 55/100\n",
      "57/57 [==============================] - 0s 2ms/step - loss: 0.2812 - accuracy: 0.8839 - val_loss: 0.2985 - val_accuracy: 0.8713\n",
      "Epoch 56/100\n",
      "57/57 [==============================] - 0s 2ms/step - loss: 0.2810 - accuracy: 0.8835 - val_loss: 0.2980 - val_accuracy: 0.8752\n",
      "Epoch 57/100\n",
      "57/57 [==============================] - 0s 2ms/step - loss: 0.2806 - accuracy: 0.8842 - val_loss: 0.2979 - val_accuracy: 0.8749\n",
      "Epoch 58/100\n",
      "57/57 [==============================] - 0s 2ms/step - loss: 0.2803 - accuracy: 0.8845 - val_loss: 0.2978 - val_accuracy: 0.8730\n",
      "Epoch 59/100\n",
      "57/57 [==============================] - 0s 2ms/step - loss: 0.2801 - accuracy: 0.8844 - val_loss: 0.2974 - val_accuracy: 0.8738\n",
      "Epoch 60/100\n",
      "57/57 [==============================] - 0s 2ms/step - loss: 0.2800 - accuracy: 0.8835 - val_loss: 0.2978 - val_accuracy: 0.8702\n",
      "Epoch 61/100\n",
      "57/57 [==============================] - 0s 2ms/step - loss: 0.2798 - accuracy: 0.8849 - val_loss: 0.2980 - val_accuracy: 0.8752\n",
      "Epoch 62/100\n",
      "57/57 [==============================] - 0s 2ms/step - loss: 0.2794 - accuracy: 0.8848 - val_loss: 0.2980 - val_accuracy: 0.8736\n",
      "Epoch 63/100\n",
      "57/57 [==============================] - 0s 2ms/step - loss: 0.2792 - accuracy: 0.8850 - val_loss: 0.2970 - val_accuracy: 0.8730\n",
      "Epoch 64/100\n",
      "57/57 [==============================] - 0s 2ms/step - loss: 0.2789 - accuracy: 0.8859 - val_loss: 0.2977 - val_accuracy: 0.8716\n",
      "Epoch 65/100\n",
      "57/57 [==============================] - 0s 2ms/step - loss: 0.2787 - accuracy: 0.8855 - val_loss: 0.2969 - val_accuracy: 0.8744\n",
      "Epoch 66/100\n",
      "57/57 [==============================] - 0s 2ms/step - loss: 0.2788 - accuracy: 0.8851 - val_loss: 0.2968 - val_accuracy: 0.8747\n",
      "Epoch 67/100\n",
      "57/57 [==============================] - 0s 2ms/step - loss: 0.2786 - accuracy: 0.8853 - val_loss: 0.2965 - val_accuracy: 0.8749\n",
      "Epoch 68/100\n",
      "57/57 [==============================] - 0s 2ms/step - loss: 0.2780 - accuracy: 0.8859 - val_loss: 0.2969 - val_accuracy: 0.8719\n",
      "Epoch 69/100\n",
      "57/57 [==============================] - 0s 2ms/step - loss: 0.2781 - accuracy: 0.8863 - val_loss: 0.2968 - val_accuracy: 0.8727\n",
      "Epoch 70/100\n",
      "57/57 [==============================] - 0s 2ms/step - loss: 0.2779 - accuracy: 0.8853 - val_loss: 0.2970 - val_accuracy: 0.8752\n",
      "Epoch 71/100\n",
      "57/57 [==============================] - 0s 2ms/step - loss: 0.2781 - accuracy: 0.8854 - val_loss: 0.2963 - val_accuracy: 0.8727\n",
      "Epoch 72/100\n",
      "57/57 [==============================] - 0s 2ms/step - loss: 0.2781 - accuracy: 0.8863 - val_loss: 0.2960 - val_accuracy: 0.8733\n",
      "Epoch 73/100\n",
      "57/57 [==============================] - 0s 2ms/step - loss: 0.2773 - accuracy: 0.8863 - val_loss: 0.2963 - val_accuracy: 0.8727\n",
      "Epoch 74/100\n",
      "57/57 [==============================] - 0s 2ms/step - loss: 0.2772 - accuracy: 0.8861 - val_loss: 0.2966 - val_accuracy: 0.8713\n",
      "Epoch 75/100\n",
      "57/57 [==============================] - 0s 2ms/step - loss: 0.2769 - accuracy: 0.8859 - val_loss: 0.2966 - val_accuracy: 0.8738\n",
      "Epoch 76/100\n",
      "57/57 [==============================] - 0s 2ms/step - loss: 0.2767 - accuracy: 0.8868 - val_loss: 0.2959 - val_accuracy: 0.8733\n",
      "Epoch 77/100\n",
      "57/57 [==============================] - 0s 2ms/step - loss: 0.2768 - accuracy: 0.8854 - val_loss: 0.2962 - val_accuracy: 0.8733\n",
      "Epoch 78/100\n",
      "57/57 [==============================] - 0s 2ms/step - loss: 0.2766 - accuracy: 0.8869 - val_loss: 0.2961 - val_accuracy: 0.8716\n",
      "Epoch 79/100\n",
      "57/57 [==============================] - 0s 2ms/step - loss: 0.2762 - accuracy: 0.8866 - val_loss: 0.2970 - val_accuracy: 0.8711\n",
      "Epoch 80/100\n",
      "57/57 [==============================] - 0s 2ms/step - loss: 0.2763 - accuracy: 0.8875 - val_loss: 0.2961 - val_accuracy: 0.8749\n",
      "Epoch 81/100\n",
      "57/57 [==============================] - 0s 2ms/step - loss: 0.2762 - accuracy: 0.8861 - val_loss: 0.2958 - val_accuracy: 0.8738\n",
      "Epoch 82/100\n",
      "57/57 [==============================] - 0s 2ms/step - loss: 0.2760 - accuracy: 0.8859 - val_loss: 0.2967 - val_accuracy: 0.8719\n",
      "Epoch 83/100\n",
      "57/57 [==============================] - 0s 2ms/step - loss: 0.2758 - accuracy: 0.8869 - val_loss: 0.2963 - val_accuracy: 0.8755\n",
      "Epoch 84/100\n",
      "57/57 [==============================] - 0s 2ms/step - loss: 0.2755 - accuracy: 0.8868 - val_loss: 0.2961 - val_accuracy: 0.8744\n",
      "Epoch 85/100\n",
      "57/57 [==============================] - 0s 2ms/step - loss: 0.2755 - accuracy: 0.8863 - val_loss: 0.2956 - val_accuracy: 0.8758\n",
      "Epoch 86/100\n",
      "57/57 [==============================] - 0s 2ms/step - loss: 0.2752 - accuracy: 0.8872 - val_loss: 0.2964 - val_accuracy: 0.8716\n",
      "Epoch 87/100\n",
      "57/57 [==============================] - 0s 2ms/step - loss: 0.2755 - accuracy: 0.8857 - val_loss: 0.2968 - val_accuracy: 0.8744\n",
      "Epoch 88/100\n",
      "57/57 [==============================] - 0s 2ms/step - loss: 0.2751 - accuracy: 0.8870 - val_loss: 0.2959 - val_accuracy: 0.8752\n",
      "Epoch 89/100\n",
      "57/57 [==============================] - 0s 2ms/step - loss: 0.2749 - accuracy: 0.8874 - val_loss: 0.2957 - val_accuracy: 0.8736\n",
      "Epoch 90/100\n",
      "57/57 [==============================] - 0s 2ms/step - loss: 0.2750 - accuracy: 0.8863 - val_loss: 0.2956 - val_accuracy: 0.8747\n",
      "Epoch 91/100\n",
      "57/57 [==============================] - 0s 2ms/step - loss: 0.2745 - accuracy: 0.8874 - val_loss: 0.2959 - val_accuracy: 0.8738\n",
      "Epoch 92/100\n",
      "57/57 [==============================] - 0s 2ms/step - loss: 0.2743 - accuracy: 0.8880 - val_loss: 0.2958 - val_accuracy: 0.8741\n",
      "Epoch 93/100\n",
      "57/57 [==============================] - 0s 2ms/step - loss: 0.2746 - accuracy: 0.8872 - val_loss: 0.2957 - val_accuracy: 0.8749\n",
      "Epoch 94/100\n",
      "57/57 [==============================] - 0s 2ms/step - loss: 0.2741 - accuracy: 0.8876 - val_loss: 0.2952 - val_accuracy: 0.8741\n",
      "Epoch 95/100\n",
      "57/57 [==============================] - 0s 2ms/step - loss: 0.2742 - accuracy: 0.8885 - val_loss: 0.2948 - val_accuracy: 0.8741\n",
      "Epoch 96/100\n",
      "57/57 [==============================] - 0s 2ms/step - loss: 0.2740 - accuracy: 0.8874 - val_loss: 0.2948 - val_accuracy: 0.8744\n",
      "Epoch 97/100\n",
      "57/57 [==============================] - 0s 2ms/step - loss: 0.2737 - accuracy: 0.8875 - val_loss: 0.2958 - val_accuracy: 0.8730\n",
      "Epoch 98/100\n",
      "57/57 [==============================] - 0s 2ms/step - loss: 0.2734 - accuracy: 0.8878 - val_loss: 0.2954 - val_accuracy: 0.8733\n",
      "Epoch 99/100\n",
      "57/57 [==============================] - 0s 2ms/step - loss: 0.2737 - accuracy: 0.8874 - val_loss: 0.2947 - val_accuracy: 0.8741\n",
      "Epoch 100/100\n",
      "57/57 [==============================] - 0s 2ms/step - loss: 0.2735 - accuracy: 0.8877 - val_loss: 0.2947 - val_accuracy: 0.8736\n"
     ]
    }
   ],
   "source": [
    "history = model.fit(X_train, y_train, \n",
    "                    validation_data=[X_test, y_test],\n",
    "                    batch_size=BATCH_SIZE,\n",
    "                    epochs=EPOCHS)"
   ]
  },
  {
   "cell_type": "markdown",
   "metadata": {},
   "source": [
    "In case we want to separately evaluate this model, we have `evaluate` function."
   ]
  },
  {
   "cell_type": "code",
   "execution_count": 37,
   "metadata": {},
   "outputs": [
    {
     "name": "stdout",
     "output_type": "stream",
     "text": [
      "114/114 - 0s - loss: 0.2947 - accuracy: 0.8736 - 100ms/epoch - 878us/step\n"
     ]
    },
    {
     "data": {
      "text/plain": [
       "[0.29470786452293396, 0.8735536932945251]"
      ]
     },
     "execution_count": 37,
     "metadata": {},
     "output_type": "execute_result"
    }
   ],
   "source": [
    "model.evaluate ( X_test,  y_test, verbose=2)"
   ]
  },
  {
   "cell_type": "code",
   "execution_count": 38,
   "metadata": {},
   "outputs": [
    {
     "data": {
      "text/html": [
       "<div>\n",
       "<style scoped>\n",
       "    .dataframe tbody tr th:only-of-type {\n",
       "        vertical-align: middle;\n",
       "    }\n",
       "\n",
       "    .dataframe tbody tr th {\n",
       "        vertical-align: top;\n",
       "    }\n",
       "\n",
       "    .dataframe thead th {\n",
       "        text-align: right;\n",
       "    }\n",
       "</style>\n",
       "<table border=\"1\" class=\"dataframe\">\n",
       "  <thead>\n",
       "    <tr style=\"text-align: right;\">\n",
       "      <th></th>\n",
       "      <th>loss</th>\n",
       "      <th>accuracy</th>\n",
       "      <th>val_loss</th>\n",
       "      <th>val_accuracy</th>\n",
       "    </tr>\n",
       "  </thead>\n",
       "  <tbody>\n",
       "    <tr>\n",
       "      <th>0</th>\n",
       "      <td>1.390716</td>\n",
       "      <td>0.383275</td>\n",
       "      <td>0.948511</td>\n",
       "      <td>0.633609</td>\n",
       "    </tr>\n",
       "    <tr>\n",
       "      <th>1</th>\n",
       "      <td>0.795587</td>\n",
       "      <td>0.713233</td>\n",
       "      <td>0.669844</td>\n",
       "      <td>0.766942</td>\n",
       "    </tr>\n",
       "    <tr>\n",
       "      <th>2</th>\n",
       "      <td>0.600761</td>\n",
       "      <td>0.779155</td>\n",
       "      <td>0.545410</td>\n",
       "      <td>0.783471</td>\n",
       "    </tr>\n",
       "    <tr>\n",
       "      <th>3</th>\n",
       "      <td>0.510951</td>\n",
       "      <td>0.795068</td>\n",
       "      <td>0.486035</td>\n",
       "      <td>0.799725</td>\n",
       "    </tr>\n",
       "    <tr>\n",
       "      <th>4</th>\n",
       "      <td>0.462999</td>\n",
       "      <td>0.809465</td>\n",
       "      <td>0.451139</td>\n",
       "      <td>0.809366</td>\n",
       "    </tr>\n",
       "  </tbody>\n",
       "</table>\n",
       "</div>"
      ],
      "text/plain": [
       "       loss  accuracy  val_loss  val_accuracy\n",
       "0  1.390716  0.383275  0.948511      0.633609\n",
       "1  0.795587  0.713233  0.669844      0.766942\n",
       "2  0.600761  0.779155  0.545410      0.783471\n",
       "3  0.510951  0.795068  0.486035      0.799725\n",
       "4  0.462999  0.809465  0.451139      0.809366"
      ]
     },
     "execution_count": 38,
     "metadata": {},
     "output_type": "execute_result"
    }
   ],
   "source": [
    "loss_df = pd.DataFrame(history.history)\n",
    "loss_df.head()"
   ]
  },
  {
   "cell_type": "code",
   "execution_count": 39,
   "metadata": {},
   "outputs": [
    {
     "data": {
      "image/png": "[encoded data removed]",
      "text/plain": [
       "<Figure size 1500x600 with 2 Axes>"
      ]
     },
     "metadata": {},
     "output_type": "display_data"
    }
   ],
   "source": [
    "fn_plot_tf_hist(loss_df)"
   ]
  },
  {
   "cell_type": "code",
   "execution_count": 40,
   "metadata": {},
   "outputs": [
    {
     "data": {
      "text/html": [
       "<div>\n",
       "<style scoped>\n",
       "    .dataframe tbody tr th:only-of-type {\n",
       "        vertical-align: middle;\n",
       "    }\n",
       "\n",
       "    .dataframe tbody tr th {\n",
       "        vertical-align: top;\n",
       "    }\n",
       "\n",
       "    .dataframe thead th {\n",
       "        text-align: right;\n",
       "    }\n",
       "</style>\n",
       "<table border=\"1\" class=\"dataframe\">\n",
       "  <thead>\n",
       "    <tr style=\"text-align: right;\">\n",
       "      <th></th>\n",
       "      <th>loss</th>\n",
       "      <th>accuracy</th>\n",
       "      <th>val_loss</th>\n",
       "      <th>val_accuracy</th>\n",
       "    </tr>\n",
       "  </thead>\n",
       "  <tbody>\n",
       "    <tr>\n",
       "      <th>98</th>\n",
       "      <td>0.273703</td>\n",
       "      <td>0.887373</td>\n",
       "      <td>0.294652</td>\n",
       "      <td>0.874105</td>\n",
       "    </tr>\n",
       "  </tbody>\n",
       "</table>\n",
       "</div>"
      ],
      "text/plain": [
       "        loss  accuracy  val_loss  val_accuracy\n",
       "98  0.273703  0.887373  0.294652      0.874105"
      ]
     },
     "execution_count": 40,
     "metadata": {},
     "output_type": "execute_result"
    }
   ],
   "source": [
    "loss_df[loss_df['val_loss'] == loss_df['val_loss'].min()]"
   ]
  },
  {
   "cell_type": "markdown",
   "metadata": {},
   "source": [
    "## Predictions"
   ]
  },
  {
   "cell_type": "code",
   "execution_count": 41,
   "metadata": {},
   "outputs": [],
   "source": [
    "probability_model = tf.keras.Sequential([\n",
    "  model,\n",
    "  tf.keras.layers.Softmax()\n",
    "])"
   ]
  },
  {
   "cell_type": "code",
   "execution_count": 42,
   "metadata": {},
   "outputs": [
    {
     "data": {
      "text/plain": [
       "array([[9.9842237e-07, 2.7273325e-06, 3.9407685e-02, 9.6058851e-01],\n",
       "       [1.5649161e-07, 3.6960264e-06, 6.6578913e-01, 3.3420703e-01],\n",
       "       [3.9640238e-07, 1.8619805e-05, 6.9310009e-01, 3.0688086e-01],\n",
       "       ...,\n",
       "       [9.9993956e-01, 1.1466477e-05, 2.9193070e-05, 1.9844387e-05],\n",
       "       [9.9996758e-01, 3.0807877e-07, 2.9315137e-05, 2.8041704e-06],\n",
       "       [9.9999416e-01, 3.0393000e-08, 5.6446743e-06, 2.5325244e-07]],\n",
       "      dtype=float32)"
      ]
     },
     "execution_count": 42,
     "metadata": {},
     "output_type": "execute_result"
    }
   ],
   "source": [
    "y_pred = probability_model(X_train).numpy()\n",
    "y_pred"
   ]
  },
  {
   "cell_type": "code",
   "execution_count": 43,
   "metadata": {},
   "outputs": [
    {
     "name": "stdout",
     "output_type": "stream",
     "text": [
      "              precision    recall  f1-score   support\n",
      "\n",
      "           0       1.00      1.00      1.00      1620\n",
      "           1       0.92      0.93      0.92      4693\n",
      "           2       0.84      0.87      0.86      5470\n",
      "           3       0.86      0.79      0.83      2734\n",
      "\n",
      "    accuracy                           0.89     14517\n",
      "   macro avg       0.91      0.90      0.90     14517\n",
      "weighted avg       0.89      0.89      0.89     14517\n",
      "\n"
     ]
    }
   ],
   "source": [
    "print(classification_report( y_train, y_pred.argmax( axis = 1)))"
   ]
  },
  {
   "cell_type": "code",
   "execution_count": 44,
   "metadata": {},
   "outputs": [
    {
     "name": "stdout",
     "output_type": "stream",
     "text": [
      "Accuracy score on Test Data :0.87355\n"
     ]
    }
   ],
   "source": [
    "y_pred = probability_model(X_test).numpy()\n",
    "\n",
    "print('Accuracy score on Test Data :{:.5f}'.format(accuracy_score(y_test, \n",
    "                                                                  np.argmax(y_pred, axis = 1))))"
   ]
  },
  {
   "cell_type": "code",
   "execution_count": 45,
   "metadata": {},
   "outputs": [
    {
     "name": "stdout",
     "output_type": "stream",
     "text": [
      "              precision    recall  f1-score   support\n",
      "\n",
      "           0       1.00      1.00      1.00       405\n",
      "           1       0.92      0.92      0.92      1173\n",
      "           2       0.82      0.86      0.84      1368\n",
      "           3       0.82      0.74      0.78       684\n",
      "\n",
      "    accuracy                           0.87      3630\n",
      "   macro avg       0.89      0.88      0.89      3630\n",
      "weighted avg       0.87      0.87      0.87      3630\n",
      "\n"
     ]
    }
   ],
   "source": [
    "print(classification_report(y_test, \n",
    "                            np.argmax(y_pred, axis = 1)))"
   ]
  },
  {
   "cell_type": "code",
   "execution_count": 46,
   "metadata": {},
   "outputs": [
    {
     "data": {
      "image/png": "[encoded data removed]",
      "text/plain": [
       "<Figure size 600x600 with 1 Axes>"
      ]
     },
     "metadata": {},
     "output_type": "display_data"
    }
   ],
   "source": [
    "fn_plot_confusion_matrix( y_test, y_pred.argmax( axis = 1), labels=class_labels)"
   ]
  },
  {
   "cell_type": "code",
   "execution_count": null,
   "metadata": {},
   "outputs": [],
   "source": []
  }
 ],
 "metadata": {
  "kernelspec": {
   "display_name": "Python 3 (ipykernel)",
   "language": "python",
   "name": "python3"
  },
  "language_info": {
   "codemirror_mode": {
    "name": "ipython",
    "version": 3
   },
   "file_extension": ".py",
   "mimetype": "text/x-python",
   "name": "python",
   "nbconvert_exporter": "python",
   "pygments_lexer": "ipython3",
   "version": "3.10.12"
  }
 },
 "nbformat": 4,
 "nbformat_minor": 4
}
